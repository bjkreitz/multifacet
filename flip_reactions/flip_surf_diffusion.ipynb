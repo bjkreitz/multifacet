{
 "cells": [
  {
   "cell_type": "code",
   "execution_count": 6,
   "id": "2f014446",
   "metadata": {},
   "outputs": [
    {
     "name": "stdout",
     "output_type": "stream",
     "text": [
      "0.7577\n",
      "25.748\n"
     ]
    }
   ],
   "source": [
    "import numpy as np\n",
    "import matplotlib.pyplot as plt\n",
    "import pandas as pd\n",
    "import matplotlib.gridspec as gridspec\n",
    "import cantera as ct\n",
    "from sklearn.linear_model import LinearRegression\n",
    "import os\n",
    "import concurrent.futures\n",
    "\n",
    "def reverse_Arrhenius(a):   \n",
    "    reaction_idx=a\n",
    "    gas = ct.Solution(cti_file, 'gas')\n",
    "    surf = ct.Interface(cti_file,'surface1', [gas])\n",
    "\n",
    "    t=np.linspace(100,800, 50)\n",
    "    k_forward=np.zeros(len(t))\n",
    "    k_reverse=np.zeros(len(t))\n",
    "    for i in range(len(t)):\n",
    "      gas.TPX =t[i]+273, ct.one_atm, 'Ar:73.9695'\n",
    "      surf.TP = t[i]+273, ct.one_atm\n",
    "      surf.coverages = {'site(100)':1}\n",
    "      k_reverse[i]=surf.reverse_rate_constants[reaction_idx]\n",
    "      k_forward[i]=surf.forward_rate_constants[reaction_idx]\n",
    "   \n",
    "    T_reciprok=1/(t+273)*1000    \n",
    "    log_k_forward=np.log(k_forward)\n",
    "    log_k_reverse=np.log(k_reverse)\n",
    "    log_k_reverse=log_k_reverse.reshape(len(k_reverse),1)\n",
    "    T_reciprok=T_reciprok.reshape(len(T_reciprok),1)\n",
    "\n",
    "    #Linear regression of an Arrhenius expression to the calculated rate constant\n",
    "    model =LinearRegression(fit_intercept=True)\n",
    "    model.fit(T_reciprok,log_k_reverse)\n",
    "    yfit=model.predict(log_k_reverse)\n",
    "    Ea_R=-float(model.coef_[0])\n",
    "    ln_k0=float(model.intercept_[0])\n",
    "    activation_barrier=np.round(Ea_R*8.314,3)\n",
    "    pre_exponential=float(np.format_float_scientific(np.exp(ln_k0)*10,precision=3))\n",
    "    #print(surf.reaction_equations()[a])\n",
    "    #print(pre_exponential,activation_barrier)\n",
    "    return pre_exponential, activation_barrier\n",
    "\n",
    "cti_file='just_to_flip.yaml'\n",
    "gas = ct.Solution(cti_file, 'gas')\n",
    "gas.TPX = 373, ct.one_atm, 'Ar:73.9695'\n",
    "\n",
    "# import the surface model\n",
    "surf = ct.Interface(cti_file,'surface1', [gas])\n",
    "surf.TP = 273, ct.one_atm\n",
    "surf.coverages = {'site(100)':1}\n",
    "\n",
    "rev_params=reverse_Arrhenius(0)\n",
    "print(rev_params[0]/1e12)\n",
    "print(rev_params[1])"
   ]
  },
  {
   "cell_type": "code",
   "execution_count": 19,
   "id": "b9b95cb6",
   "metadata": {},
   "outputs": [
    {
     "name": "stdout",
     "output_type": "stream",
     "text": [
      "-477.54053895945714\n",
      "-144.37562267087173\n",
      "-164.15446041469198\n",
      "51.16779084690005\n",
      "88.1142076859575\n"
     ]
    }
   ],
   "source": [
    "cti_file='Multifacet_mechanism_flipped_reactions_covdep.yaml'\n",
    "gas = ct.Solution(cti_file, 'gas')\n",
    "gas.TPX = 373, ct.one_atm, 'Ar:73.9695'\n",
    "\n",
    "# import the surface model\n",
    "surf = ct.Interface(cti_file,'surface4', [gas])\n",
    "surf.TP = 273, ct.one_atm\n",
    "surf.coverages = {'site(110)':1}\n",
    "\n",
    "for i in range(surf.n_reactions):\n",
    "    print(surf.delta_standard_enthalpy[i]/1e6)"
   ]
  },
  {
   "cell_type": "code",
   "execution_count": null,
   "id": "086744a5",
   "metadata": {},
   "outputs": [],
   "source": []
  }
 ],
 "metadata": {
  "kernelspec": {
   "display_name": "Python 3 (ipykernel)",
   "language": "python",
   "name": "python3"
  },
  "language_info": {
   "codemirror_mode": {
    "name": "ipython",
    "version": 3
   },
   "file_extension": ".py",
   "mimetype": "text/x-python",
   "name": "python",
   "nbconvert_exporter": "python",
   "pygments_lexer": "ipython3",
   "version": "3.11.5"
  }
 },
 "nbformat": 4,
 "nbformat_minor": 5
}
