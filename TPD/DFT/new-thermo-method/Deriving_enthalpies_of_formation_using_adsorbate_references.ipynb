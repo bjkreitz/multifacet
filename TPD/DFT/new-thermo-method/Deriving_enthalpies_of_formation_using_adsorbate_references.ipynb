{
 "cells": [
  {
   "cell_type": "markdown",
   "id": "1a295666",
   "metadata": {},
   "source": [
    "Supplementary notebook to the manuscript \"Unifying thermochemistry concepts in computational heterogeneous catalysis\", by Dr. Bjarne Kreitz (Brown University), Dr. Gabriel S. Gusmão (Georgia Tech), Dingqi Nai (Georgia Tech), Sushree Jagriti Sahoo (Georgia Tech), Prof. Andrew A. Peterson (Brown University), Dr. David H. Bross (Argonne National Laboratory), Prof. C. Franklin Goldsmith (Brown University), Prof. Andrew J. Medford (Georgia Tech). \n",
    "\n",
    "Correspondence to Bjarne Kreitz (bjarne_kreitz@brown.edu) and Andrew J. Medford (ajm@gatech.edu)"
   ]
  },
  {
   "cell_type": "code",
   "execution_count": 1,
   "id": "e60245c7",
   "metadata": {},
   "outputs": [],
   "source": [
    "import numpy as np\n",
    "import matplotlib.pyplot as plt\n",
    "import matplotlib.gridspec as gridspec\n",
    "\n",
    "eV_to_kJmol=96.485"
   ]
  },
  {
   "cell_type": "markdown",
   "id": "7fc2e346",
   "metadata": {},
   "source": [
    "# Deriving enthalpies of formation of adsorbates using adsorbed referenece species\n",
    "\n",
    "Enthalpies of formation of adsorbates can be anchored to the existing global thermochemical network of gas-phase species through experimental enthalpies of formation of chosen adsorbates. All species are anchored to the elements in their IUPAC standard states. For this method we are going to form an atomic reference basis set, where we select a single adsorbate for every element e.g. $[^*H, ^*CO, ^*O, Pt(111)]$. The enthalpies of formation of the adsorbates are determined from measured enthalpies of adsorption on Pt(111) and enthalpies of formation of the gas-phase species from the ATcT database (https://atct.anl.gov/). When anchoring the DFT energies to the global thermochemical network, it is no longer necessary to perform DFT calculations for gas-phase species. Instead, it is possible to simply use the tabulated enthalpies of formation in the ATcT for the gas-phase species as it is in the same reference frame. In our case, we can take known enthalpies of formation for $C_2H_6, C_2H_4, CO, CO_2$. \n",
    "\n",
    "To determine the enthalpies of formation of the target species with respect to the references in the global thermochemical network, we make a hypothetical reaction to create the target from our references. \n",
    "\n",
    "\\begin{equation}\n",
    "    \\nu_{H}\\, ^*H + \\nu_{O}\\, ^*O + \\nu_{CO}\\, ^*CO + \\nu_{*} * \\rightarrow P\n",
    "\\end{equation}\n",
    "\n",
    "The enthalpy of reaction is defined as \n",
    "\\begin{equation}\n",
    "\\Delta_{\\text{r}} H = \\Delta_{\\text{f}} H_{\\text{P}} + \\sum_{i\\neq P}^{N} \\nu_i  \\Delta_{\\text{f}} H_i\n",
    "\\end{equation}\n",
    "\n",
    "where we know the $\\Delta_{\\text{f}} H_i$ of the reactants. The equation can be rearranged to determine the enthalpy of formation of the target.\n",
    "\n",
    "\\begin{equation}\n",
    "\\Delta_{\\text{f}} H_{\\text{P}}  = \\Delta_{\\text{r}} H - \\sum_{i \\neq P}^{N} \\nu_i  \\Delta_{\\text{f}} H_i\n",
    "\\end{equation}\n",
    "\n",
    "The enthalpy of reaction can also be computed from the known DFT energies of the target and the reference species. \n",
    "\\begin{equation}\n",
    "    \\Delta_{\\text{f}} H_{\\text{P}} = E_{\\text{P}} + \\sum_{i\\neq P}^{N} \\nu_i  E_{i}\n",
    "\\end{equation}\n",
    "\n",
    "Substituting the enthalpy of reaction leads to the equation to determine the enthalpy of formation of the target with respect to the IUPAC refernence species.\n",
    "\n",
    "\\begin{equation}\n",
    "\\Delta_{\\text{f}} H_{\\text{P}}  = E_{\\text{P}} + \\sum_{i \\neq P}^{N} \\nu_i  E_{i} - \\sum_{i \\neq P}^{N} \\nu_i  \\Delta_{\\text{f}} H_i\n",
    "\\end{equation}\n",
    "\n",
    "In matrix notation this reads as\n",
    "\n",
    "\\begin{align}\n",
    "    \\mathbf{\\underline{H}}_{\\text{f}} & =\\mathbf{\\underline{E}} + \\mathbf{\\underline{\\underline{M}}}\\,\\mathbf{\\underline{E}}^{\\text{R}} - \\mathbf{\\underline{\\underline{M}}}\\,\\mathbf{\\underline{H}}_{\\text{f}}^{\\text{R}}\\\\\n",
    "     \\mathbf{\\underline{H}}_{\\text{f}} & =\\mathbf{\\underline{E}} + \\mathbf{\\underline{\\underline{M}}}\\,\\left(\\mathbf{\\underline{E}}^{\\text{R}} - \\mathbf{\\underline{H}}_{\\text{f}}^{\\text{R}}\\right)\n",
    "\\end{align}\n",
    "\n",
    "where $\\mathbf{\\underline{\\underline{M}}}$ can be determined from the elemental composition matrix of the target species $\\mathbf{\\underline{\\underline{N}}}$ and the reference species $\\mathbf{\\underline{\\underline{N}}}^{\\text{R}}$\n",
    "\n",
    "\\begin{equation}\n",
    " \\mathbf{\\underline{\\underline{M}}}=-\\mathbf{\\underline{\\underline{N}}}\\,\\mathbf{\\underline{\\underline{N}}}^{\\text{R}^{-1}}\n",
    "\\end{equation}\n"
   ]
  },
  {
   "cell_type": "markdown",
   "id": "f0940321",
   "metadata": {},
   "source": [
    "This is the list of species with their DFT energies from BEEF-vdW for which we want to compute the enthalpies of formation. We can create a vector $\\mathbf{\\underline{E}}$ that contains the energies from this dictionary."
   ]
  },
  {
   "cell_type": "code",
   "execution_count": 2,
   "id": "85a4a747",
   "metadata": {},
   "outputs": [],
   "source": [
    "#Target species for which we need to compute the EOFs\n",
    "#all gas-phase species are removed since we use the ATcT values for the enthalpies of formation\n",
    "#all adsorbates that are used as reference are removed from the list\n",
    "species_energies = {\n",
    "    \"CO2X\" : -97.910152+0.325,\n",
    "    \"XC\": -86.09531+0.1,\n",
    "    \"XCO\": -93.052308+0.184, \n",
    "    \"XO\": -84.879429+0.079,\n",
    "} #values are in eV\n",
    "\n",
    "#vector of DFT energies of the target species from the dictionary\n",
    "E=np.array(list(species_energies.values()))"
   ]
  },
  {
   "cell_type": "markdown",
   "id": "eba47696",
   "metadata": {},
   "source": [
    "We want to determine the enthalpies of formation with reference to $[CH_4, H_2, H_2O, Pt(111)]$. For which we determined the DFT energies. We construct the vector $\\mathbf{\\underline{E}}^{\\text{R}}$ that contains the DFT energies of the reference species"
   ]
  },
  {
   "cell_type": "code",
   "execution_count": 3,
   "id": "6f62f123",
   "metadata": {},
   "outputs": [],
   "source": [
    "ref_energies = {\n",
    "    \"XO\": -84.879429+0.079,\n",
    "    \"XCO\": -93.052308+0.184, \n",
    "    \"X\": -79.348378,\n",
    "}#values are in eV\n",
    "\n",
    "#vector of DFT energies of the reference species from the dictionary\n",
    "E_R=np.array(list(ref_energies.values()))"
   ]
  },
  {
   "cell_type": "markdown",
   "id": "b38cc299",
   "metadata": {},
   "source": [
    "For the reference species we have to collect the enthalpies of formation from the ATcT"
   ]
  },
  {
   "cell_type": "code",
   "execution_count": 4,
   "id": "5386890e",
   "metadata": {},
   "outputs": [],
   "source": [
    "ref_EOF = {\n",
    "  \"XO\":-220,\n",
    "  \"XCO\":-240,\n",
    "  \"X\":0,\n",
    "}#values are in kJ/mol\n",
    "\n",
    "H_R=np.array(list(ref_EOF.values()))"
   ]
  },
  {
   "cell_type": "markdown",
   "id": "e01c30a8",
   "metadata": {},
   "source": [
    "We start now with constructing the elemental composition matrix of our target species $\\mathbf{\\underline{\\underline{N}}}$, which is an $m \\times n$ matrix with $m$ target species and $n$ elements. "
   ]
  },
  {
   "cell_type": "code",
   "execution_count": 27,
   "id": "a76e3515",
   "metadata": {},
   "outputs": [
    {
     "data": {
      "text/plain": [
       "array([[1., 2., 1.],\n",
       "       [1., 0., 1.],\n",
       "       [1., 1., 1.],\n",
       "       [0., 1., 1.]])"
      ]
     },
     "execution_count": 27,
     "metadata": {},
     "output_type": "execute_result"
    }
   ],
   "source": [
    "# Define the species and their elemental compositions in a dictionary\n",
    "species_compositions = {\n",
    "    \"CO2X\": {\"C\": 1, \"O\": 2, \"X\": 1},\n",
    "    \"XC\": {\"C\": 1, \"O\": 0, \"X\": 1},\n",
    "    \"XCO\": {\"C\": 1,  \"O\": 1, \"X\": 1},\n",
    "    \"XO\": {\"C\": 0, \"O\": 1, \"X\": 1},\n",
    "}\n",
    "\n",
    "species=list(species_compositions.keys())\n",
    "\n",
    "# Create a matrix to hold the elemental compositions of the target species\n",
    "num_species = len(species_compositions)\n",
    "num_elements = 3  # C, O, X\n",
    "N = np.zeros((num_species, num_elements))\n",
    "\n",
    "# Fill in the elemental composition matrix of the target species\n",
    "for s, composition in species_compositions.items():\n",
    "    i = species.index(s)\n",
    "    N[i, :] = [composition[\"C\"], composition[\"O\"], composition[\"X\"]]\n",
    "    \n",
    "N"
   ]
  },
  {
   "cell_type": "markdown",
   "id": "da7928b7",
   "metadata": {},
   "source": [
    "We construct the elemental composition matrix of our reference species $\\mathbf{\\underline{\\underline{N}}}^{\\text{R}}$, which is an $m \\times n$ matrix with $m$ reference species and $n$ elements. "
   ]
  },
  {
   "cell_type": "code",
   "execution_count": 28,
   "id": "b8c6c158",
   "metadata": {},
   "outputs": [
    {
     "data": {
      "text/plain": [
       "array([[0., 1., 1.],\n",
       "       [1., 1., 1.],\n",
       "       [0., 0., 1.]])"
      ]
     },
     "execution_count": 28,
     "metadata": {},
     "output_type": "execute_result"
    }
   ],
   "source": [
    "# Define the species and their elemental compositions in a dictionary\n",
    "references_compositions = {\n",
    "    \"XO\": {\"C\": 0, \"O\": 1, \"X\": 1},\n",
    "    \"XCO\": {\"C\": 1,  \"O\": 1, \"X\": 1},\n",
    "    \"X\": {\"C\": 0, \"O\": 0, \"X\": 1},\n",
    "}\n",
    "\n",
    "references=list(references_compositions.keys())\n",
    "\n",
    "# Create a matrix to hold the elemental compositions of the reference species\n",
    "num_references = len(references_compositions)\n",
    "N_R = np.zeros((num_references, num_elements))\n",
    "\n",
    "# Fill in the elemental composition matrix of the reference species\n",
    "for s, composition in references_compositions.items():\n",
    "    i = references.index(s)\n",
    "    N_R[i, :] = [composition[\"C\"], composition[\"O\"], composition[\"X\"]]\n",
    "    \n",
    "N_R"
   ]
  },
  {
   "cell_type": "markdown",
   "id": "b46e2e1a",
   "metadata": {},
   "source": [
    "We can now determine $\\mathbf{\\underline{\\underline{M}}}$ from the elemental composition matrix of the target species $\\mathbf{\\underline{\\underline{N}}}$ and the reference species $\\mathbf{\\underline{\\underline{N}}}^{\\text{R}}$ via\n",
    "\n",
    "\\begin{equation}\n",
    " \\mathbf{\\underline{\\underline{M}}}=-\\mathbf{\\underline{\\underline{N}}}\\,\\mathbf{\\underline{\\underline{N}}}^{\\text{R}^{-1}}\n",
    "\\end{equation}"
   ]
  },
  {
   "cell_type": "code",
   "execution_count": 29,
   "id": "3b26a9b5",
   "metadata": {},
   "outputs": [
    {
     "data": {
      "text/plain": [
       "array([[-1., -1.,  1.],\n",
       "       [ 1., -1., -1.],\n",
       "       [-0., -1., -0.],\n",
       "       [-1., -0., -0.]])"
      ]
     },
     "execution_count": 29,
     "metadata": {},
     "output_type": "execute_result"
    }
   ],
   "source": [
    "#Calculate the matrix of stoichiometric coefficients to form the target from the reference species\n",
    "M=-N.dot(np.linalg.inv(N_R))\n",
    "M"
   ]
  },
  {
   "cell_type": "markdown",
   "id": "607885b1",
   "metadata": {},
   "source": [
    "The last step is to compute the enthalpies of formation using the matrix of stoichiometric coefficients of the formation reactions and the DFT energies of the target species and references\n",
    "\n",
    "\\begin{equation}\n",
    "    \\mathbf{\\underline{H}}_{\\text{f}} =\\mathbf{\\underline{E}}+\\mathbf{\\underline{\\underline{M}}}\\,\\mathbf{\\underline{E}}^{\\text{R}} - \\mathbf{\\underline{\\underline{M}}}\\,\\mathbf{\\underline{H}}_{\\text{f}}^{\\text{R}}\n",
    "\\end{equation}"
   ]
  },
  {
   "cell_type": "code",
   "execution_count": 30,
   "id": "ecdcfc18",
   "metadata": {},
   "outputs": [
    {
     "data": {
      "text/plain": [
       "{'CO2X': -389.06355260499913,\n",
       " 'XC': 117.10007129499718,\n",
       " 'XCO': -240.0,\n",
       " 'XO': -220.0}"
      ]
     },
     "execution_count": 30,
     "metadata": {},
     "output_type": "execute_result"
    }
   ],
   "source": [
    "#Determine the enthalpy of formation of the target\n",
    "H_f=(E*eV_to_kJmol+M.dot(E_R)*eV_to_kJmol-M.dot(H_R))\n",
    "\n",
    "#Create a dictionary with the results\n",
    "enthalpies_of_formation = {species[i]: H_f[i] for i in range(len(species))}\n",
    "enthalpies_of_formation"
   ]
  },
  {
   "cell_type": "markdown",
   "id": "053dc010",
   "metadata": {},
   "source": [
    "The enthalpies of formation of our reference species are the known values in the ATcT. Pt(111) is denoted as a generic X and assumed to have an enthalpy of formation of 0."
   ]
  },
  {
   "cell_type": "code",
   "execution_count": 12,
   "id": "2283e6d1",
   "metadata": {},
   "outputs": [
    {
     "data": {
      "text/plain": [
       "{'CO2X': -389.06355260499913,\n",
       " 'XC': 117.10007129499718,\n",
       " 'CO': -113.8,\n",
       " 'CO2': -393.11,\n",
       " 'XO': -220,\n",
       " 'XCO': -240,\n",
       " 'X': 0}"
      ]
     },
     "execution_count": 12,
     "metadata": {},
     "output_type": "execute_result"
    }
   ],
   "source": [
    "#Append the enthalpies of formation of the reference species to the enthalpies of formation dictionary\n",
    "enthalpies_of_formation.update({'CO':-113.800, 'CO2':-393.110})\n",
    "enthalpies_of_formation"
   ]
  },
  {
   "cell_type": "code",
   "execution_count": 15,
   "id": "0788cdff",
   "metadata": {},
   "outputs": [
    {
     "data": {
      "image/png": "[encoded data removed]",
      "text/plain": [
       "<Figure size 1400x800 with 1 Axes>"
      ]
     },
     "metadata": {},
     "output_type": "display_data"
    }
   ],
   "source": [
    "plt.rcParams['figure.figsize'] = (14, 8)\n",
    "plt.rcParams['axes.linewidth'] = 3\n",
    "plt.rc('xtick', labelsize=20)\n",
    "plt.rc('ytick', labelsize=20)\n",
    "plt.rc('axes', labelsize=20)\n",
    "plt.rc('legend', fontsize=20)\n",
    "plt.rcParams['lines.markersize'] = 10\n",
    "plt.rcParams['lines.linewidth'] = 4\n",
    "plt.rcParams['xtick.direction'] = 'in'\n",
    "plt.rcParams['ytick.direction'] = 'in'\n",
    "plt.rcParams['xtick.major.size'] = 10\n",
    "plt.rcParams['xtick.major.width'] = 2\n",
    "plt.rcParams['ytick.major.size'] = 10\n",
    "plt.rcParams['ytick.major.width'] = 2\n",
    "plt.rcParams['legend.edgecolor'] = 'k'\n",
    "plt.rcParams['axes.unicode_minus'] = False\n",
    "plt.rcParams[\"legend.framealpha\"] = 1\n",
    "plt.rcParams['xtick.major.pad'] = 8\n",
    "plt.rcParams['ytick.major.pad'] = 8\n",
    "plt.rcParams['legend.handletextpad'] = 0.2\n",
    "plt.rcParams['legend.columnspacing'] = 0.1\n",
    "plt.rcParams['legend.labelspacing'] = 0.1\n",
    "plt.rcParams['legend.title_fontsize'] = 14\n",
    "plt.rcParams['axes.formatter.limits'] = (-3, 6)\n",
    "\n",
    "\n",
    "gs = gridspec.GridSpec(nrows=1, ncols=1)\n",
    "gs.update(wspace=0.5, hspace=0.5)\n",
    "ax0 = plt.subplot(gs[0, 0])\n",
    "\n",
    "ax0.set_ylim([-200,200])\n",
    "ax0.set_xlim([-1,44])\n",
    "ax0.get_xaxis().set_visible(False)\n",
    "ax0.spines['right'].set_visible(False)\n",
    "ax0.spines['top'].set_visible(False)\n",
    "ax0.spines['bottom'].set_visible(False)\n",
    "ax0.set_ylabel('$\\mathrm{enthalpy\\ (kJ\\,mol^{-1})}$')\n",
    "\n",
    "\n",
    "mechanism=({'C2H6':1,'CO2':1},\n",
    "    {'C2H6X':1,'CO2':1},\n",
    "    {'C2H6X':1,'CO2X':1},\n",
    "    {'XCH2CH3':1,'CO2X':1,'XH':1},\n",
    "    {'XCH2XCH2':1,'CO2X':1,'XH':2},\n",
    "    {'XCH2XCH2':1,'XCO':1,'XO':1,'XH':2},\n",
    "    {'XCH2XCH2':1,'XCO':1,'XOH':1,'XH':1},\n",
    "    {'XCH2XCH2':1,'XCO':1,'H2OX':1},\n",
    "    {'C2H4':1,'XCO':1,'H2OX':1},\n",
    "    {'C2H4':1,'CO':1,'H2OX':1}, \n",
    "    {'C2H4':1,'CO':1,'H2O':1},\n",
    "    )\n",
    "\n",
    "tags=('$\\mathbf{CH_3CH_3}$\\n$\\mathbf{CO_2}$',\n",
    "      '$\\mathbf{CH_3CH_3^*}$\\n$\\mathbf{CO_2}$',\n",
    "      '$\\mathbf{CH_3CH_3^*}$\\n$\\mathbf{CO_2^*}$',\n",
    "      '$\\mathbf{^*CH_2CH_3}$\\n$\\mathbf{CO_2^*}$\\n$\\mathbf{^*H}$',\n",
    "      '$\\mathbf{^*CH_2^*CH_2}$\\n$\\mathbf{CO_2^*}$\\n$\\mathbf{2 ^*H}$',\n",
    "      '$\\mathbf{^*CH_2^*CH_2}$\\n$\\mathbf{^*CO}$\\n$\\mathbf{^*O}$\\n$\\mathbf{2 ^*H}$',\n",
    "      '$\\mathbf{^*CH_2^*CH_2}$\\n$\\mathbf{^*CO}$\\n$\\mathbf{^*OH}$\\n$\\mathbf{^*H}$',\n",
    "      '$\\mathbf{^*CH_2^*CH_2}$\\n$\\mathbf{^*CO}$\\n$\\mathbf{H_2O^*}$',\n",
    "      '$\\mathbf{CH_2CH_2}$\\n$\\mathbf{^*CO}$\\n$\\mathbf{H_2O^*}$',\n",
    "      '$\\mathbf{CH_2CH_2}$\\n$\\mathbf{CO}$\\n$\\mathbf{H_2O^*}$',\n",
    "      '$\\mathbf{CH_2CH_2}$\\n$\\mathbf{CO}$\\n$\\mathbf{H_2O}$',\n",
    ")\n",
    "\n",
    "# Function to compute the sum for each step in the mechanism\n",
    "def compute_sum(vec,dictionary):\n",
    "    return sum(vec[key] * value for key, value in dictionary.items())\n",
    "\n",
    "def ediagram(ref_system):\n",
    "    system = [compute_sum(ref_system,entry) for entry in mechanism]\n",
    "    rel_enthalpies=np.zeros(len(system))\n",
    "    for i, enthalpies in enumerate(system):\n",
    "        start = i * 4\n",
    "        end = start + 3\n",
    "        ax0.plot((start, end), (enthalpies-system[0], enthalpies-system[0]), linestyle='solid', color='b')\n",
    "        if i>0:\n",
    "            ax0.plot((start-1,start),(system[i-1]-system[0],enthalpies-system[0]),linestyle='dashed',color='b', linewidth=1)\n",
    "        rel_enthalpies[i]=enthalpies-system[0]\n",
    "    return rel_enthalpies\n",
    "\n",
    "values=ediagram(enthalpies_of_formation)\n",
    "\n",
    "\n",
    "for i in range(len(np.array(values).T)):\n",
    "    start = i * 4\n",
    "    ax0.text(start+1.5,np.array(values).T[i]-5,tags[i],va='top',ha='center',size=12)"
   ]
  }
 ],
 "metadata": {
  "kernelspec": {
   "display_name": "Python 3 (ipykernel)",
   "language": "python",
   "name": "python3"
  },
  "language_info": {
   "codemirror_mode": {
    "name": "ipython",
    "version": 3
   },
   "file_extension": ".py",
   "mimetype": "text/x-python",
   "name": "python",
   "nbconvert_exporter": "python",
   "pygments_lexer": "ipython3",
   "version": "3.7.12"
  }
 },
 "nbformat": 4,
 "nbformat_minor": 5
}
