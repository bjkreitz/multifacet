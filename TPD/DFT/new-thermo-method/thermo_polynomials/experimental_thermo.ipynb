{
 "cells": [
  {
   "cell_type": "markdown",
   "id": "bc4012c1",
   "metadata": {},
   "source": [
    "# Notebook to compute the heat of formation of the experimental reference adsorbates for the CBH approach\n",
    "\n",
    "created by Bjarne Kreitz (Brown University)\n",
    "\n",
    "This notebook stores the available literature data and computes the heat of formation of the experimental reference species for the CBH paper\n",
    "\n",
    "\n",
    "| reaction | $$\\Delta H_{rxn}\\, /\\, \\text{kJ mol}^{-1}$$   | temperature / K | Coverage | reference | \n",
    "|--- |----------| ------|--------| --------|\n",
    "| $$O_2 + 2 Ni(111) \\rightleftharpoons 2\\, O/Ni(111) $$ | -480 | 300 | 1/4 | Wellendorff et al., Surf. Sci. 2015, 640, 36-44|\n",
    "| $$CO +  Ni(111) \\rightleftharpoons \\,CO/Ni(111) $$ | -130 | 300 | 1/10 | Wellendorff et al., Surf. Sci. 2015, 640, 36-44|\n",
    "| $$O_2 + 2 Ni(100) \\rightleftharpoons 2\\, O/Ni(100) $$ | -530 | 300 | 1/4 | Wellendorff et al., Surf. Sci. 2015, 640, 36-44|\n",
    "| $$CO +  Ni(100) \\rightleftharpoons \\,CO/Ni(100) $$ | -126 | 340 | 1/4 | Wellendorff et al., Surf. Sci. 2015, 640, 36-44|\n",
    "| $$O_2 + 2 Ni(110) \\rightleftharpoons 2\\, O/Ni(110) $$ | -470 | 300  | 1/4 | Wellendorff et al., Surf. Sci. 2015, 640, 36-44|\n",
    "| $$CO +  Ni(110) \\rightleftharpoons \\,CO/Ni(110) $$ | -128 | 380 | 1/4 | Wellendorff et al., Surf. Sci. 2015, 640, 36-44|\n",
    "| $$O_2 + 2 Ni(211) \\rightleftharpoons 2\\, O/Ni(211) $$ | -620 | 300 | 1/10 | Wellendorff et al., Surf. Sci. 2015, 640, 36-44|\n",
    "| $$CO +  Ni(211) \\rightleftharpoons \\,CO/Ni(211) $$ | -142 | 300 | 1/10 | Wellendorff et al., Surf. Sci. 2015, 640, 36-44|"
   ]
  },
  {
   "cell_type": "markdown",
   "id": "8418fc06",
   "metadata": {},
   "source": [
    "Values for gas-phase species from the ATcT database (version 1.130)\n",
    "\n",
    "| species | $$\\Delta_f H\\, /\\, \\text{kJ mol}^{-1}$$   | temperature / K |\n",
    "|--- |----------| ------| \n",
    "| $$O_2$$ | 0 | 298.15 | \n",
    "| $$CO$$ | -110.520 | 298.15 | "
   ]
  },
  {
   "cell_type": "markdown",
   "id": "6595f5c8",
   "metadata": {},
   "source": [
    "The experimental heat of formation of the adsorbate is computed at 298K and needs to be corrected to 0K because the heat of reaction are all at 0K.\n",
    "\n",
    "Correction factors are the following:\n",
    "\n",
    "| species | $$\\Delta\\Delta_f H\\, /\\, \\text{kJ mol}^{-1}$$ |\n",
    "|--- |----------|  \n",
    "| $$^*O$$ | -1.695 | \n",
    "| $$^*CO$$ | 0.05  | \n",
    "\n",
    "The heat of formation at 0K is less negative than the heat of formation at 298K from DFT"
   ]
  },
  {
   "cell_type": "code",
   "execution_count": 8,
   "id": "8749ad15",
   "metadata": {},
   "outputs": [],
   "source": [
    "import numpy as np\n",
    "import cantera as ct\n",
    "\n",
    "#import the cti file that contains the NASA polynomials for the gas-phase and surface species\n",
    "\n",
    "cti_file = 'chem_polynomials.yaml'\n",
    "    \n",
    "gas = ct.Solution(cti_file, 'gas')\n",
    "gas.TPX = 298.15, ct.one_atm, 'N2:1'\n",
    "\n",
    "#Dictionary with all values from the ATcT database (version 1.130\n",
    "ATcT={'O2':0, \n",
    "      'CO':-110.520\n",
    "     }\n",
    "\n",
    "#Dictionary with correction factors to compute the heat of formation at 0K from the heat of formation at 298K\n",
    "# This correction factor is estimated based on the correction of the DFT heat of formation from 0K to 298K\n",
    "correction_factor={\n",
    "      'OX_111':-2.06,\n",
    "      'OCX_111': 1.32,\n",
    "      'OX_100':-1.37,\n",
    "      'OCX_100': 1.9,\n",
    "      'OX_110':-1.26,\n",
    "      'OCX_110': 1.54,\n",
    "      'OX_211':-1.25,\n",
    "      'OCX_211': 1.78,\n",
    "        }\n",
    "\n",
    "\"\"\"\n",
    "We only use the temperature dependence of the heat of formation from the NASA polynomial and not \n",
    "the heat of formation, because the ATcT database is continuously updated. This is a function to compute \n",
    "the heat of formation at a specific temperature using the ATcT heats of formation and the NASA polynomial.\n",
    "\"\"\"\n",
    "\n",
    "def get_h_texp(spcs,temp):\n",
    "    #heat of formation from ATcT database\n",
    "    hf_atct=ATcT[spcs]\n",
    "    idx=gas.species_index(spcs)\n",
    "    \n",
    "    #Compute the enthalpy of formation at standard conditions from the NASA polynomial\n",
    "    gas.TP=298.15, ct.one_atm\n",
    "    hf_std=gas.standard_enthalpies_RT[idx]\n",
    "    hf_std*=gas.T*ct.gas_constant/1e6 #in kJ/mol\n",
    "    #print('at std', hf_std)\n",
    "\n",
    "    #Compute the enthalpy at the temperature of the experiment from the NASA polynomial\n",
    "    gas.TP=temp, ct.one_atm\n",
    "    hf=gas.standard_enthalpies_RT[idx]\n",
    "    hf*=gas.T*ct.gas_constant/1e6 #in kJ/mol\n",
    "    #print('at exp',hf)\n",
    "    #Compute the difference in enthalpy between both temperatures from the NASA polynomial\n",
    "    delta_hf_polynomial=hf-hf_std\n",
    "    \n",
    "    #Apply the temperature correction to the heat of formation from the ATcT database\n",
    "    hf_corrected=hf_atct+delta_hf_polynomial\n",
    "    return hf_corrected\n",
    "\n",
    "def get_hf_ads_corr(spcs,temp):\n",
    "\n",
    "    #Surface species and gas-phase species are in the same phase (called \"gas\")\n",
    "    idx=gas.species_index(spcs)\n",
    "    \n",
    "    #Compute the enthalpy at standard conditions from the NASA polynomial\n",
    "    gas.TP=298.15, ct.one_atm\n",
    "    hf_std=gas.standard_enthalpies_RT[idx]\n",
    "    hf_std*=gas.T*ct.gas_constant/1e6 #in kJ/mol\n",
    "    #print('ads at std', hf_std)\n",
    "    #Compute the enthalpy at the temperature of the experiment from the NASA polynomial\n",
    "    gas.TP=temp, ct.one_atm\n",
    "    hf=gas.standard_enthalpies_RT[idx]\n",
    "    hf*=gas.T*ct.gas_constant/1e6 #in kJ/mol\n",
    "    #print('ads at exp',hf)\n",
    "    #Compute the difference in enthalpy from the polynomials, which is used as a correction factor\n",
    "    delta_hf_polynomial=hf_std-hf\n",
    "    \n",
    "    return delta_hf_polynomial\n"
   ]
  },
  {
   "cell_type": "markdown",
   "id": "0ac886d1",
   "metadata": {},
   "source": [
    "### Determine the heat of formation of O/Ni(111)\n",
    "\n",
    "This can be directly computed from the reported experimental value. \n",
    "$$O_2 + 2 Ni(111) \\rightleftharpoons 2\\, O/Ni(111) $$ \n",
    "\n",
    "$$2\\Delta_fH_{O*} - \\Delta_fH_{O_2} - 2\\Delta_fH_{Ni(111)}=-480 kJ mol^{-1}$$\n",
    "The heat of reaction for this step is -480 kJ mol$^{-1}$.\n",
    "\n",
    "The heat of formation of O2 has to be corrected to the experimental temperature of 300K."
   ]
  },
  {
   "cell_type": "code",
   "execution_count": 9,
   "id": "bec9c24a",
   "metadata": {},
   "outputs": [
    {
     "name": "stdout",
     "output_type": "stream",
     "text": [
      "adsorbate heat of formation at Texp=-240.0 kJ/mol\n",
      "adsorbate heat of formation at 298 =-240.0 kJ/mol\n",
      "adsorbate heat of formation at 0 =-237.9 kJ/mol\n"
     ]
    }
   ],
   "source": [
    "hf_hads=-480+get_h_texp('O2', 300)\n",
    "hf_hads/=2\n",
    "hf_stp=hf_hads+get_hf_ads_corr('OX_111', 300)\n",
    "hf_0K=hf_stp-correction_factor['OX_111']\n",
    "\n",
    "print(f\"adsorbate heat of formation at Texp={hf_hads:.4} kJ/mol\")\n",
    "print(f\"adsorbate heat of formation at 298 ={hf_stp:.4} kJ/mol\")\n",
    "print(f\"adsorbate heat of formation at 0 ={hf_0K:.4} kJ/mol\")"
   ]
  },
  {
   "cell_type": "markdown",
   "id": "12d86c27",
   "metadata": {},
   "source": [
    "### Determine the heat of formation of CO/Ni(111)\n",
    "\n",
    "This can be directly computed from the reported experimental value. \n",
    "$$CO + Ni(111) \\rightleftharpoons \\,CO/Ni(111) $$ \n",
    "\n",
    "$$\\Delta_fH_{*CO} - \\Delta_fH_{CO} - \\Delta_fH_{Ni(111)}=-130 kJ mol^{-1}$$\n",
    "The heat of reaction for this step is -130 kJ mol$^{-1}$.\n",
    "\n",
    "The heat of formation of CO has to be corrected to the experimental temperature of 300K."
   ]
  },
  {
   "cell_type": "code",
   "execution_count": 12,
   "id": "f26cc586",
   "metadata": {},
   "outputs": [
    {
     "name": "stdout",
     "output_type": "stream",
     "text": [
      "adsorbate heat of formation at Texp=-230.5 kJ/mol\n",
      "adsorbate heat of formation at 298 =-230.5 kJ/mol\n",
      "adsorbate heat of formation at 0K =-231.9 kJ/mol\n"
     ]
    }
   ],
   "source": [
    "hf_hads=-120+get_h_texp('CO', 300)\n",
    "hf_stp=hf_hads+get_hf_ads_corr('OCX_111', 300)\n",
    "hf_0K=hf_stp-correction_factor['OCX_111']\n",
    "print(f\"adsorbate heat of formation at Texp={hf_hads:.4} kJ/mol\")\n",
    "print(f\"adsorbate heat of formation at 298 ={hf_stp:.4} kJ/mol\")\n",
    "print(f\"adsorbate heat of formation at 0K ={hf_0K:.4} kJ/mol\")"
   ]
  },
  {
   "cell_type": "markdown",
   "id": "a5b2f33b",
   "metadata": {},
   "source": [
    "### Determine the heat of formation of O/Ni(100)\n",
    "\n",
    "This can be directly computed from the reported experimental value. \n",
    "$$O_2 + 2 Ni(100) \\rightleftharpoons 2\\, O/Ni(100) $$ \n",
    "\n",
    "$$2\\Delta_fH_{O*} - \\Delta_fH_{O_2} - 2\\Delta_fH_{Ni(100)}=-530 kJ mol^{-1}$$\n",
    "The heat of reaction for this step is -530 kJ mol$^{-1}$.\n",
    "\n",
    "The heat of formation of O2 has to be corrected to the experimental temperature of 300K."
   ]
  },
  {
   "cell_type": "code",
   "execution_count": 13,
   "id": "7aebe45e",
   "metadata": {},
   "outputs": [
    {
     "name": "stdout",
     "output_type": "stream",
     "text": [
      "adsorbate heat of formation at Texp=-265.0 kJ/mol\n",
      "adsorbate heat of formation at 298 =-265.0 kJ/mol\n",
      "adsorbate heat of formation at 0 =-263.6 kJ/mol\n"
     ]
    }
   ],
   "source": [
    "hf_hads=-530+get_h_texp('O2', 300)\n",
    "hf_hads/=2\n",
    "hf_stp=hf_hads+get_hf_ads_corr('OX_100', 300)\n",
    "hf_0K=hf_stp-correction_factor['OX_100']\n",
    "\n",
    "print(f\"adsorbate heat of formation at Texp={hf_hads:.4} kJ/mol\")\n",
    "print(f\"adsorbate heat of formation at 298 ={hf_stp:.4} kJ/mol\")\n",
    "print(f\"adsorbate heat of formation at 0 ={hf_0K:.4} kJ/mol\")"
   ]
  },
  {
   "cell_type": "markdown",
   "id": "40450f23",
   "metadata": {},
   "source": [
    "### Determine the heat of formation of CO/Ni(100)\n",
    "\n",
    "This can be directly computed from the reported experimental value. \n",
    "$$CO + Ni(100) \\rightleftharpoons \\,CO/Ni(100) $$ \n",
    "\n",
    "$$\\Delta_fH_{*CO} - \\Delta_fH_{CO} - \\Delta_fH_{Ni(100)}=-126 kJ mol^{-1}$$\n",
    "The heat of reaction for this step is -126 kJ mol$^{-1}$.\n",
    "\n",
    "The heat of formation of CO has to be corrected to the experimental temperature of 340K."
   ]
  },
  {
   "cell_type": "code",
   "execution_count": 14,
   "id": "f1bed148",
   "metadata": {},
   "outputs": [
    {
     "name": "stdout",
     "output_type": "stream",
     "text": [
      "adsorbate heat of formation at Texp=-235.3 kJ/mol\n",
      "adsorbate heat of formation at 298 =-236.9 kJ/mol\n",
      "adsorbate heat of formation at 0K =-238.8 kJ/mol\n"
     ]
    }
   ],
   "source": [
    "hf_hads=-126+get_h_texp('CO', 340)\n",
    "hf_stp=hf_hads+get_hf_ads_corr('OCX_100', 340)\n",
    "hf_0K=hf_stp-correction_factor['OCX_100']\n",
    "print(f\"adsorbate heat of formation at Texp={hf_hads:.4} kJ/mol\")\n",
    "print(f\"adsorbate heat of formation at 298 ={hf_stp:.4} kJ/mol\")\n",
    "print(f\"adsorbate heat of formation at 0K ={hf_0K:.4} kJ/mol\")"
   ]
  },
  {
   "cell_type": "markdown",
   "id": "08c46136",
   "metadata": {},
   "source": [
    "### Determine the heat of formation of O/Ni(110)\n",
    "\n",
    "This can be directly computed from the reported experimental value. \n",
    "$$O_2 + 2 Ni(110) \\rightleftharpoons 2\\, O/Ni(110) $$ \n",
    "\n",
    "$$2\\Delta_fH_{O*} - \\Delta_fH_{O_2} - 2\\Delta_fH_{Ni(110)}=-470 kJ mol^{-1}$$\n",
    "The heat of reaction for this step is -470 kJ mol$^{-1}$.\n",
    "\n",
    "The heat of formation of O2 has to be corrected to the experimental temperature of 300K."
   ]
  },
  {
   "cell_type": "code",
   "execution_count": 16,
   "id": "4345d7f9",
   "metadata": {},
   "outputs": [
    {
     "name": "stdout",
     "output_type": "stream",
     "text": [
      "adsorbate heat of formation at Texp=-235.0 kJ/mol\n",
      "adsorbate heat of formation at 298 =-235.0 kJ/mol\n",
      "adsorbate heat of formation at 0 =-233.7 kJ/mol\n"
     ]
    }
   ],
   "source": [
    "hf_hads=-470+get_h_texp('O2', 300)\n",
    "hf_hads/=2\n",
    "hf_stp=hf_hads+get_hf_ads_corr('OX_110', 300)\n",
    "hf_0K=hf_stp-correction_factor['OX_110']\n",
    "\n",
    "print(f\"adsorbate heat of formation at Texp={hf_hads:.4} kJ/mol\")\n",
    "print(f\"adsorbate heat of formation at 298 ={hf_stp:.4} kJ/mol\")\n",
    "print(f\"adsorbate heat of formation at 0 ={hf_0K:.4} kJ/mol\")"
   ]
  },
  {
   "cell_type": "markdown",
   "id": "4f6f56ed",
   "metadata": {},
   "source": [
    "### Determine the heat of formation of CO/Ni(110)\n",
    "\n",
    "This can be directly computed from the reported experimental value. \n",
    "$$CO + Ni(110) \\rightleftharpoons \\,CO/Ni(110) $$ \n",
    "\n",
    "$$\\Delta_fH_{*CO} - \\Delta_fH_{CO} - \\Delta_fH_{Ni(110)}=-128 kJ mol^{-1}$$\n",
    "The heat of reaction for this step is -128 kJ mol$^{-1}$.\n",
    "\n",
    "The heat of formation of CO has to be corrected to the experimental temperature of 380K."
   ]
  },
  {
   "cell_type": "code",
   "execution_count": 17,
   "id": "a22b2fcf",
   "metadata": {},
   "outputs": [
    {
     "name": "stdout",
     "output_type": "stream",
     "text": [
      "adsorbate heat of formation at Texp=-237.3 kJ/mol\n",
      "adsorbate heat of formation at 298 =-238.9 kJ/mol\n",
      "adsorbate heat of formation at 0K =-240.4 kJ/mol\n"
     ]
    }
   ],
   "source": [
    "hf_hads=-128+get_h_texp('CO', 340)\n",
    "hf_stp=hf_hads+get_hf_ads_corr('OCX_110', 340)\n",
    "hf_0K=hf_stp-correction_factor['OCX_110']\n",
    "print(f\"adsorbate heat of formation at Texp={hf_hads:.4} kJ/mol\")\n",
    "print(f\"adsorbate heat of formation at 298 ={hf_stp:.4} kJ/mol\")\n",
    "print(f\"adsorbate heat of formation at 0K ={hf_0K:.4} kJ/mol\")"
   ]
  },
  {
   "cell_type": "markdown",
   "id": "f2671766",
   "metadata": {},
   "source": [
    "### Determine the heat of formation of O/Ni(211)\n",
    "\n",
    "This can be directly computed from the reported experimental value. \n",
    "$$O_2 + 2 Ni(211) \\rightleftharpoons 2\\, O/Ni(211) $$ \n",
    "\n",
    "$$2\\Delta_fH_{O*} - \\Delta_fH_{O_2} - 2\\Delta_fH_{Ni(211)}=-620 kJ mol^{-1}$$\n",
    "The heat of reaction for this step is -620 kJ mol$^{-1}$.\n",
    "\n",
    "The heat of formation of O2 has to be corrected to the experimental temperature of 300K."
   ]
  },
  {
   "cell_type": "code",
   "execution_count": 18,
   "id": "c41df4c7",
   "metadata": {},
   "outputs": [
    {
     "name": "stdout",
     "output_type": "stream",
     "text": [
      "adsorbate heat of formation at Texp=-310.0 kJ/mol\n",
      "adsorbate heat of formation at 298 =-310.0 kJ/mol\n",
      "adsorbate heat of formation at 0 =-308.7 kJ/mol\n"
     ]
    }
   ],
   "source": [
    "hf_hads=-620+get_h_texp('O2', 300)\n",
    "hf_hads/=2\n",
    "hf_stp=hf_hads+get_hf_ads_corr('OX_110', 300)\n",
    "hf_0K=hf_stp-correction_factor['OX_110']\n",
    "\n",
    "print(f\"adsorbate heat of formation at Texp={hf_hads:.4} kJ/mol\")\n",
    "print(f\"adsorbate heat of formation at 298 ={hf_stp:.4} kJ/mol\")\n",
    "print(f\"adsorbate heat of formation at 0 ={hf_0K:.4} kJ/mol\")"
   ]
  },
  {
   "cell_type": "markdown",
   "id": "021b93df",
   "metadata": {},
   "source": [
    "### Determine the heat of formation of CO/Ni(211)\n",
    "\n",
    "This can be directly computed from the reported experimental value. \n",
    "$$CO + Ni(211) \\rightleftharpoons \\,CO/Ni(211) $$ \n",
    "\n",
    "$$\\Delta_fH_{*CO} - \\Delta_fH_{CO} - \\Delta_fH_{Ni(211)}=-142 kJ mol^{-1}$$\n",
    "The heat of reaction for this step is -142 kJ mol$^{-1}$.\n",
    "\n",
    "The heat of formation of CO has to be corrected to the experimental temperature of 300K."
   ]
  },
  {
   "cell_type": "code",
   "execution_count": 20,
   "id": "c8a5eeb6",
   "metadata": {},
   "outputs": [
    {
     "name": "stdout",
     "output_type": "stream",
     "text": [
      "adsorbate heat of formation at Texp=-252.5 kJ/mol\n",
      "adsorbate heat of formation at 298 =-252.5 kJ/mol\n",
      "adsorbate heat of formation at 0K =-254.3 kJ/mol\n"
     ]
    }
   ],
   "source": [
    "hf_hads=-142+get_h_texp('CO', 300)\n",
    "hf_stp=hf_hads+get_hf_ads_corr('OCX_211', 300)\n",
    "hf_0K=hf_stp-correction_factor['OCX_211']\n",
    "print(f\"adsorbate heat of formation at Texp={hf_hads:.4} kJ/mol\")\n",
    "print(f\"adsorbate heat of formation at 298 ={hf_stp:.4} kJ/mol\")\n",
    "print(f\"adsorbate heat of formation at 0K ={hf_0K:.4} kJ/mol\")"
   ]
  },
  {
   "cell_type": "code",
   "execution_count": null,
   "id": "dbd5d63b",
   "metadata": {},
   "outputs": [],
   "source": []
  }
 ],
 "metadata": {
  "kernelspec": {
   "display_name": "Python 3 (ipykernel)",
   "language": "python",
   "name": "python3"
  },
  "language_info": {
   "codemirror_mode": {
    "name": "ipython",
    "version": 3
   },
   "file_extension": ".py",
   "mimetype": "text/x-python",
   "name": "python",
   "nbconvert_exporter": "python",
   "pygments_lexer": "ipython3",
   "version": "3.11.5"
  }
 },
 "nbformat": 4,
 "nbformat_minor": 5
}
