{
 "cells": [
  {
   "cell_type": "code",
   "execution_count": 2,
   "id": "f95540fd",
   "metadata": {},
   "outputs": [
    {
     "ename": "FileExistsError",
     "evalue": "[Errno 17] File exists: 'mechanisms/File_0'",
     "output_type": "error",
     "traceback": [
      "\u001b[0;31m---------------------------------------------------------------------------\u001b[0m",
      "\u001b[0;31mFileExistsError\u001b[0m                           Traceback (most recent call last)",
      "Cell \u001b[0;32mIn[2], line 14\u001b[0m\n\u001b[1;32m     10\u001b[0m \u001b[38;5;28;01mfor\u001b[39;00m i \u001b[38;5;129;01min\u001b[39;00m \u001b[38;5;28mrange\u001b[39m(num_pts):\n\u001b[1;32m     11\u001b[0m     \n\u001b[1;32m     12\u001b[0m     \u001b[38;5;66;03m#Create a new folder for the new input file and write the input file\u001b[39;00m\n\u001b[1;32m     13\u001b[0m     mkdir_writer\u001b[38;5;241m=\u001b[39m\u001b[38;5;124m\"\u001b[39m\u001b[38;5;124m\"\u001b[39m\u001b[38;5;241m.\u001b[39mjoin((directory,\u001b[38;5;28mstr\u001b[39m(i\u001b[38;5;241m+\u001b[39mstart)))\n\u001b[0;32m---> 14\u001b[0m     os\u001b[38;5;241m.\u001b[39mmkdir(mkdir_writer)\n",
      "\u001b[0;31mFileExistsError\u001b[0m: [Errno 17] File exists: 'mechanisms/File_0'"
     ]
    }
   ],
   "source": [
    "import numpy as np\n",
    "import os\n",
    "\n",
    "\n",
    "num_pts = 2 \t# the number of points to generate \n",
    "start=0\n",
    "\n",
    "directory='mechanisms/File_'\n",
    "#Read in the input file, change the binding energy for H, O, C\n",
    "for i in range(num_pts):\n",
    "    \n",
    "    #Create a new folder for the new input file and write the input file\n",
    "    mkdir_writer=\"\".join((directory,str(i+start)))\n",
    "    os.mkdir(mkdir_writer)\n",
    "    "
   ]
  },
  {
   "cell_type": "code",
   "execution_count": 6,
   "id": "117dbd2d",
   "metadata": {},
   "outputs": [
    {
     "ename": "CanteraError",
     "evalue": "\n*******************************************************************************\nCanteraError thrown by addReactions:\n\n*******************************************************************************\nInputFileError thrown by UnitSystem::convert:\nError on line 429 of ./multifacet_original.yaml:\nCouldn't parse '1.7.0e-03' as a space-separated value/unit pair\n\n|  Line |\n|   424 | surface1-reactions:\n|   425 | - equation: site(111) + site(111) + O2 <=> O(111) + O(111)  # Reaction 1\n|   426 |   sticking-coefficient: {A: 0.23, b: 0.0, Ea: 0}\n|   427 |   id: Ni(111)\n|   428 | - equation: site(111) + CO2 <=> CO2(111)  # Reaction 2\n>   429 >   sticking-coefficient: {A: 1.7.0e-03, b: 0.0, Ea: 0}\n                                      ^\n|   430 |   id: Ni(111)\n|   431 | - equation: site(111) + CO <=> OC(111)  # Reaction 3\n|   432 |   sticking-coefficient: {A: 0.72, b: 0.0, Ea: 0.0}\n*******************************************************************************\n*******************************************************************************\n",
     "output_type": "error",
     "traceback": [
      "\u001b[0;31m---------------------------------------------------------------------------\u001b[0m",
      "\u001b[0;31mCanteraError\u001b[0m                              Traceback (most recent call last)",
      "Cell \u001b[0;32mIn[6], line 56\u001b[0m\n\u001b[1;32m     53\u001b[0m gas\u001b[38;5;241m.\u001b[39mTPX \u001b[38;5;241m=\u001b[39m T, p\u001b[38;5;241m*\u001b[39mct\u001b[38;5;241m.\u001b[39mone_atm, \u001b[38;5;124m'\u001b[39m\u001b[38;5;124mAr:1, CO2:0.0, CO:0\u001b[39m\u001b[38;5;124m'\u001b[39m\n\u001b[1;32m     55\u001b[0m \u001b[38;5;66;03m# import the (111) surface\u001b[39;00m\n\u001b[0;32m---> 56\u001b[0m surf111 \u001b[38;5;241m=\u001b[39m ct\u001b[38;5;241m.\u001b[39mInterface(cti_file,\u001b[38;5;124m'\u001b[39m\u001b[38;5;124msurface1\u001b[39m\u001b[38;5;124m'\u001b[39m, [gas])\n\u001b[1;32m     57\u001b[0m surf111\u001b[38;5;241m.\u001b[39mTP \u001b[38;5;241m=\u001b[39m T, p\u001b[38;5;241m*\u001b[39mct\u001b[38;5;241m.\u001b[39mone_atm\n\u001b[1;32m     58\u001b[0m surf111\u001b[38;5;241m.\u001b[39mcoverages \u001b[38;5;241m=\u001b[39m {\u001b[38;5;124m'\u001b[39m\u001b[38;5;124msite(111)\u001b[39m\u001b[38;5;124m'\u001b[39m:\u001b[38;5;241m1\u001b[39m , \u001b[38;5;124m'\u001b[39m\u001b[38;5;124mO(111)\u001b[39m\u001b[38;5;124m'\u001b[39m:\u001b[38;5;241m0.0\u001b[39m, \u001b[38;5;124m'\u001b[39m\u001b[38;5;124mOC(111)\u001b[39m\u001b[38;5;124m'\u001b[39m:\u001b[38;5;241m0.0\u001b[39m, \u001b[38;5;124m'\u001b[39m\u001b[38;5;124mCO2(111)\u001b[39m\u001b[38;5;124m'\u001b[39m:\u001b[38;5;241m0\u001b[39m}\n",
      "File \u001b[0;32mbuild/python/cantera/solutionbase.pyx:37\u001b[0m, in \u001b[0;36mcantera.solutionbase._SolutionBase.__cinit__\u001b[0;34m()\u001b[0m\n",
      "File \u001b[0;32mbuild/python/cantera/solutionbase.pyx:95\u001b[0m, in \u001b[0;36mcantera.solutionbase._SolutionBase._cinit\u001b[0;34m()\u001b[0m\n",
      "File \u001b[0;32mbuild/python/cantera/solutionbase.pyx:180\u001b[0m, in \u001b[0;36mcantera.solutionbase._SolutionBase._init_yaml\u001b[0;34m()\u001b[0m\n",
      "\u001b[0;31mCanteraError\u001b[0m: \n*******************************************************************************\nCanteraError thrown by addReactions:\n\n*******************************************************************************\nInputFileError thrown by UnitSystem::convert:\nError on line 429 of ./multifacet_original.yaml:\nCouldn't parse '1.7.0e-03' as a space-separated value/unit pair\n\n|  Line |\n|   424 | surface1-reactions:\n|   425 | - equation: site(111) + site(111) + O2 <=> O(111) + O(111)  # Reaction 1\n|   426 |   sticking-coefficient: {A: 0.23, b: 0.0, Ea: 0}\n|   427 |   id: Ni(111)\n|   428 | - equation: site(111) + CO2 <=> CO2(111)  # Reaction 2\n>   429 >   sticking-coefficient: {A: 1.7.0e-03, b: 0.0, Ea: 0}\n                                      ^\n|   430 |   id: Ni(111)\n|   431 | - equation: site(111) + CO <=> OC(111)  # Reaction 3\n|   432 |   sticking-coefficient: {A: 0.72, b: 0.0, Ea: 0.0}\n*******************************************************************************\n*******************************************************************************\n"
     ]
    }
   ],
   "source": [
    "import cantera as ct\n",
    "import optunity\n",
    "\n",
    "def shift_nasa(phase, index, change_in_enthalpy):\n",
    "    if phase.molecular_weights[index]>min(phase.molecular_weights):\n",
    "        my_species=phase.species(index)\n",
    "        new_coeffs=my_species.thermo.coeffs\n",
    "        T_low=my_species.thermo.min_temp\n",
    "        T_high=my_species.thermo.max_temp\n",
    "        \n",
    "        change_in_enthalpy/=ct.gas_constant\n",
    "        new_coeffs[6]=my_species.thermo.coeffs[6] + change_in_enthalpy\n",
    "        new_coeffs[13]=my_species.thermo.coeffs[13] + change_in_enthalpy\n",
    "        \n",
    "        my_species.thermo=ct.NasaPoly2(T_low, T_high,ct.one_atm, new_coeffs)\n",
    "        phase.modify_species(index,my_species)\n",
    "    return   \n",
    "\n",
    "def create_new_mechanism(phase, Delta_DeltaH):\n",
    "    #cycle through the species for each phase\n",
    "    #cycle through the reactions for each phase    \n",
    "    for i in range(phase.n_species):\n",
    "        shift_nasa(phase, i, Delta_DeltaH[i])\n",
    "        \n",
    "    #for i in range(phase.n_reactions):\n",
    "    #    shift_Arrhenius(phase, i, Delta_Ea[i], Delta_A[i])    \n",
    "    \n",
    "    return\n",
    "\n",
    "num_pts = 500   # the number of points to generate\n",
    "skip = 1000    # the number of initial points of the Sobol sequence to skip\n",
    "# generate Sobol sequence\n",
    "x_sobol=np.zeros((num_pts, 40))\n",
    "res = optunity.solvers.Sobol.i4_sobol_generate(40, num_pts, skip)\n",
    "\n",
    "Delta_DeltaH=10 #kJ/mol\n",
    "Delta_DeltaH*=1.0E6\n",
    "\n",
    "for i,j in enumerate(zip(*res)):\n",
    "    x_sobol[:,i]=j\n",
    "    \n",
    "surf111_ddh = Delta_DeltaH-2*x_sobol*Delta_DeltaH\n",
    "\n",
    "for k in range(num_pts):\n",
    "    #Some parameters\n",
    "    T=383 #Initial temperature\n",
    "    p=1 #pressure \n",
    "    # input file containing the surface reaction mechanism\n",
    "    cti_file = 'multifacet_original.yaml'\n",
    "    \n",
    "    # import the gas model and set the initial conditions\n",
    "    gas = ct.Solution(cti_file, 'gas')\n",
    "    gas.TPX = T, p*ct.one_atm, 'Ar:1, CO2:0.0, CO:0'\n",
    "    \n",
    "    # import the (111) surface\n",
    "    surf111 = ct.Interface(cti_file,'surface1', [gas])\n",
    "    surf111.TP = T, p*ct.one_atm\n",
    "    surf111.coverages = {'site(111)':1 , 'O(111)':0.0, 'OC(111)':0.0, 'CO2(111)':0}\n"
   ]
  },
  {
   "cell_type": "code",
   "execution_count": null,
   "id": "2d84ee56",
   "metadata": {},
   "outputs": [],
   "source": []
  }
 ],
 "metadata": {
  "kernelspec": {
   "display_name": "Python 3 (ipykernel)",
   "language": "python",
   "name": "python3"
  },
  "language_info": {
   "codemirror_mode": {
    "name": "ipython",
    "version": 3
   },
   "file_extension": ".py",
   "mimetype": "text/x-python",
   "name": "python",
   "nbconvert_exporter": "python",
   "pygments_lexer": "ipython3",
   "version": "3.11.5"
  }
 },
 "nbformat": 4,
 "nbformat_minor": 5
}
