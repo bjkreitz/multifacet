{
 "cells": [
  {
   "cell_type": "code",
   "execution_count": 20,
   "id": "5478a509",
   "metadata": {},
   "outputs": [
    {
     "name": "stdout",
     "output_type": "stream",
     "text": [
      "9.0\n",
      "[251.9, 347.2, 435.2, 450.0, 531.8, 1902.6]\n"
     ]
    }
   ],
   "source": [
    "#Average the vibrational frequencies for the thermo evaluation\n",
    "import numpy as np\n",
    "\n",
    "def average_three_items(input_list):\n",
    "    coverage = len(input_list)/6\n",
    "    print(coverage)\n",
    "    #if len(input_list) % 3 != 0:\n",
    "    #    raise ValueError(\"The length of the list must be a multiple of 3.\")\n",
    "    \n",
    "    averaged_list = []\n",
    "    for i in range(0, len(input_list), int(coverage)):\n",
    "        group = input_list[i:i+int(coverage)]\n",
    "        average = sum(group) / coverage\n",
    "        averaged_list.append(np.round(average,1))\n",
    "    \n",
    "    return averaged_list\n",
    "\n",
    "# Example usage:\n",
    "input_list = [157.0, 157.9, 269.3, 269.5, 270.0, 270.0, 270.1, 270.5, 332.7, 332.9, 333.0, 333.3, 334.5, 335.0, 335.4, 336.7, 355.8, 428.0, 429.2, 431.9, 432.1, 436.4, 436.7, 437.2, 437.2, 438.0, 438.2, 438.3, 438.4, 444.1, 444.5, 444.8, 445.1, 445.5, 445.6, 503.7, 503.7, 533.8, 533.8, 533.8, 534.1, 535.4, 535.6, 537.6, 538.2, 1861.2, 1861.4, 1898.5, 1898.6, 1898.6, 1898.7, 1899.0, 1899.0, 2008.5]\n",
    "averaged_result = average_three_items(input_list)\n",
    "print(averaged_result)\n",
    "\n"
   ]
  },
  {
   "cell_type": "code",
   "execution_count": null,
   "id": "280a7d37",
   "metadata": {},
   "outputs": [],
   "source": []
  }
 ],
 "metadata": {
  "kernelspec": {
   "display_name": "Python 3 (ipykernel)",
   "language": "python",
   "name": "python3"
  },
  "language_info": {
   "codemirror_mode": {
    "name": "ipython",
    "version": 3
   },
   "file_extension": ".py",
   "mimetype": "text/x-python",
   "name": "python",
   "nbconvert_exporter": "python",
   "pygments_lexer": "ipython3",
   "version": "3.7.12"
  }
 },
 "nbformat": 4,
 "nbformat_minor": 5
}
