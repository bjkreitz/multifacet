{
 "cells": [
  {
   "cell_type": "code",
   "execution_count": 31,
   "id": "7a3c5c61",
   "metadata": {},
   "outputs": [],
   "source": [
    "import cantera as ct\n",
    "import numpy as np\n",
    "import pandas as pd\n",
    "import csv\n",
    "import matplotlib.pyplot as plt\n",
    "import matplotlib.gridspec as gridspec"
   ]
  },
  {
   "cell_type": "code",
   "execution_count": 14,
   "id": "cdbcc7af",
   "metadata": {},
   "outputs": [],
   "source": [
    "t=np.linspace(300,600,50) #temperature of the CSTR\n",
    "\n",
    "xCH4eq=np.zeros(len(t))\n",
    "xCOeq=np.zeros(len(t))\n",
    "xCO2eq=np.zeros(len(t))\n",
    "xH2eq=np.zeros(len(t))\n",
    "xH2Oeq=np.zeros(len(t))\n",
    "xN2eq=np.zeros(len(t))\n",
    "\n",
    "for j in range(len(t)):\n",
    "    p=1 #pressure of the CSTR\n",
    "    cti_file = 'WGS_on_Rh_HRHT_flipped.yaml'\n",
    "    T=t[j]+273.15\n",
    "    # import the gas model and set the initial conditions\n",
    "    gaseq = ct.Solution(cti_file, 'gas')\n",
    "    gaseq.TPX = T, p*ct.one_atm, 'N2:0.9602, CO:0.0159, H2O: 0.0239'\n",
    "    q1=ct.Quantity(gaseq, moles=1)\n",
    "    \n",
    "    i_ch4eq=q1.species_index('CH4')\n",
    "    i_co2eq=q1.species_index('CO2')\n",
    "    i_coeq=q1.species_index('CO')\n",
    "    i_h2eq=q1.species_index('H2')\n",
    "    i_h2oeq=q1.species_index('H2O')\n",
    "    i_n2eq=q1.species_index('N2')  \n",
    "    \n",
    "    q1.equilibrate('TP',solver='auto',rtol=1.0e-9)\n",
    "    \n",
    "    xCH4eq[j]=q1.X[i_ch4eq]\n",
    "    xCO2eq[j]=q1.X[i_co2eq]\n",
    "    xCOeq[j]=q1.X[i_coeq]\n",
    "    xH2eq[j]=q1.X[i_h2eq]\n",
    "    xH2Oeq[j]=q1.X[i_h2oeq]\n",
    "    xN2eq[j]=q1.X[i_n2eq]\n",
    "    \n",
    "###Ergebnis in txt Datei schreiben\n",
    "myFields = ['t', 'CH4', 'CO2', 'CO', 'H2', 'H2O', 'N2']\n",
    "myData = zip(t, xCH4eq,xCO2eq, xCOeq, xH2eq, xH2Oeq,xN2eq)\n",
    "myFile = open('equilibrium.txt', 'w')  \n",
    "with myFile as output:\n",
    "      writer = csv.writer(output, lineterminator='\\n', delimiter='\\t')\n",
    "      writer.writerow(myFields)\n",
    "      writer.writerows(myData)  \n",
    "    \n"
   ]
  }
 ],
 "metadata": {
  "kernelspec": {
   "display_name": "Python 3 (ipykernel)",
   "language": "python",
   "name": "python3"
  },
  "language_info": {
   "codemirror_mode": {
    "name": "ipython",
    "version": 3
   },
   "file_extension": ".py",
   "mimetype": "text/x-python",
   "name": "python",
   "nbconvert_exporter": "python",
   "pygments_lexer": "ipython3",
   "version": "3.11.5"
  }
 },
 "nbformat": 4,
 "nbformat_minor": 5
}
