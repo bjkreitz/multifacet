{
 "cells": [
  {
   "cell_type": "code",
   "execution_count": 5,
   "id": "a165a731",
   "metadata": {},
   "outputs": [],
   "source": [
    "from ase.io import read,write\n",
    "\n",
    "syst=read('minima_hopping/2/final.traj')\n",
    "\n",
    "origin=syst.get_positions()[27]\n",
    "\n",
    "new_position_C1=([6.237,4.869,17.518])\n",
    "new_position_O1=([6.211,5.068,18.683])\n"
   ]
  },
  {
   "cell_type": "code",
   "execution_count": 6,
   "id": "45571609",
   "metadata": {},
   "outputs": [
    {
     "data": {
      "text/plain": [
       "array([3.85182359e-03, 5.90574784e-03, 1.60413428e+01])"
      ]
     },
     "execution_count": 6,
     "metadata": {},
     "output_type": "execute_result"
    }
   ],
   "source": [
    "origin"
   ]
  },
  {
   "cell_type": "code",
   "execution_count": null,
   "id": "1ea01a41",
   "metadata": {},
   "outputs": [],
   "source": [
    "from ase import Atoms, Atom\n",
    "from ase.io.trajectory import Trajectory\n",
    "import numpy as np\n",
    "from ase.constraints import FixAtoms, FixBondLength\n",
    "from ase.visualize import view\n",
    "from ase.build import add_adsorbate,molecule\n",
    "from ase.io import read,write\n",
    "\n",
    "\n",
    "pos=['ontop','fcc','bridge','hcp']\n",
    "folder='ch3ch2oh'\n",
    "adsorbate = molecule('CH3CH2OH')\n",
    "#adsorbate.rotate('x',90)\n",
    "#adsorbate.rotate('y',90)\n",
    "for i in pos:\n",
    "    #name of the image\n",
    "    syst=read('slab/Co0001-slab.traj')\n",
    "    add_adsorbate(syst, adsorbate, 3, i, offset=1)\n",
    "    view(syst)\n",
    "\n",
    "    if i=='ontop':\n",
    "        init_traj='adsorbates/' + folder + '/atop' + '/initial.traj'\n",
    "    else:\n",
    "        init_traj='adsorbates/' + folder + '/' + str(i) + '/initial.traj'\n",
    "    \n",
    "    write(init_traj, syst)"
   ]
  },
  {
   "cell_type": "code",
   "execution_count": null,
   "id": "fddcb85c",
   "metadata": {},
   "outputs": [],
   "source": []
  },
  {
   "cell_type": "code",
   "execution_count": 1,
   "id": "e7475283",
   "metadata": {},
   "outputs": [
    {
     "ename": "FileNotFoundError",
     "evalue": "[Errno 2] No such file or directory: 'slab/Co0001-slab.traj'",
     "output_type": "error",
     "traceback": [
      "\u001b[0;31m---------------------------------------------------------------------------\u001b[0m",
      "\u001b[0;31mFileNotFoundError\u001b[0m                         Traceback (most recent call last)",
      "Cell \u001b[0;32mIn[1], line 11\u001b[0m\n\u001b[1;32m      9\u001b[0m adsorbate \u001b[38;5;241m=\u001b[39m molecule(\u001b[38;5;124m'\u001b[39m\u001b[38;5;124mO2\u001b[39m\u001b[38;5;124m'\u001b[39m)\n\u001b[1;32m     10\u001b[0m adsorbate\u001b[38;5;241m.\u001b[39mrotate(\u001b[38;5;124m'\u001b[39m\u001b[38;5;124mx\u001b[39m\u001b[38;5;124m'\u001b[39m,\u001b[38;5;241m90\u001b[39m)\n\u001b[0;32m---> 11\u001b[0m syst\u001b[38;5;241m=\u001b[39m\u001b[43mread\u001b[49m\u001b[43m(\u001b[49m\u001b[38;5;124;43m'\u001b[39;49m\u001b[38;5;124;43mslab/Co0001-slab.traj\u001b[39;49m\u001b[38;5;124;43m'\u001b[39;49m\u001b[43m)\u001b[49m\n\u001b[1;32m     12\u001b[0m add_adsorbate(syst, adsorbate, \u001b[38;5;241m2\u001b[39m, \u001b[38;5;124m'\u001b[39m\u001b[38;5;124montop\u001b[39m\u001b[38;5;124m'\u001b[39m, offset\u001b[38;5;241m=\u001b[39m\u001b[38;5;241m1\u001b[39m)\n\u001b[1;32m     13\u001b[0m view(syst)\n",
      "File \u001b[0;32m~/anaconda/finetuna/lib/python3.9/site-packages/ase/io/formats.py:675\u001b[0m, in \u001b[0;36mread\u001b[0;34m(filename, index, format, parallel, do_not_split_by_at_sign, **kwargs)\u001b[0m\n\u001b[1;32m    673\u001b[0m \u001b[38;5;28;01mif\u001b[39;00m index \u001b[38;5;129;01mis\u001b[39;00m \u001b[38;5;28;01mNone\u001b[39;00m:\n\u001b[1;32m    674\u001b[0m     index \u001b[38;5;241m=\u001b[39m \u001b[38;5;241m-\u001b[39m\u001b[38;5;241m1\u001b[39m\n\u001b[0;32m--> 675\u001b[0m \u001b[38;5;28mformat\u001b[39m \u001b[38;5;241m=\u001b[39m \u001b[38;5;28mformat\u001b[39m \u001b[38;5;129;01mor\u001b[39;00m \u001b[43mfiletype\u001b[49m\u001b[43m(\u001b[49m\u001b[43mfilename\u001b[49m\u001b[43m,\u001b[49m\u001b[43m \u001b[49m\u001b[43mread\u001b[49m\u001b[38;5;241;43m=\u001b[39;49m\u001b[38;5;28;43misinstance\u001b[39;49m\u001b[43m(\u001b[49m\u001b[43mfilename\u001b[49m\u001b[43m,\u001b[49m\u001b[43m \u001b[49m\u001b[38;5;28;43mstr\u001b[39;49m\u001b[43m)\u001b[49m\u001b[43m)\u001b[49m\n\u001b[1;32m    677\u001b[0m io \u001b[38;5;241m=\u001b[39m get_ioformat(\u001b[38;5;28mformat\u001b[39m)\n\u001b[1;32m    678\u001b[0m \u001b[38;5;28;01mif\u001b[39;00m \u001b[38;5;28misinstance\u001b[39m(index, (\u001b[38;5;28mslice\u001b[39m, \u001b[38;5;28mstr\u001b[39m)):\n",
      "File \u001b[0;32m~/anaconda/finetuna/lib/python3.9/site-packages/ase/io/formats.py:858\u001b[0m, in \u001b[0;36mfiletype\u001b[0;34m(filename, read, guess)\u001b[0m\n\u001b[1;32m    855\u001b[0m     \u001b[38;5;28;01mreturn\u001b[39;00m ext\n\u001b[1;32m    857\u001b[0m \u001b[38;5;28;01mif\u001b[39;00m orig_filename \u001b[38;5;241m==\u001b[39m filename:\n\u001b[0;32m--> 858\u001b[0m     fd \u001b[38;5;241m=\u001b[39m \u001b[43mopen_with_compression\u001b[49m\u001b[43m(\u001b[49m\u001b[43mfilename\u001b[49m\u001b[43m,\u001b[49m\u001b[43m \u001b[49m\u001b[38;5;124;43m'\u001b[39;49m\u001b[38;5;124;43mrb\u001b[39;49m\u001b[38;5;124;43m'\u001b[39;49m\u001b[43m)\u001b[49m\n\u001b[1;32m    859\u001b[0m \u001b[38;5;28;01melse\u001b[39;00m:\n\u001b[1;32m    860\u001b[0m     fd \u001b[38;5;241m=\u001b[39m orig_filename \u001b[38;5;66;03m# type: ignore\u001b[39;00m\n",
      "File \u001b[0;32m~/anaconda/finetuna/lib/python3.9/site-packages/ase/io/formats.py:497\u001b[0m, in \u001b[0;36mopen_with_compression\u001b[0;34m(filename, mode)\u001b[0m\n\u001b[1;32m    494\u001b[0m     \u001b[38;5;28;01mreturn\u001b[39;00m lzma\u001b[38;5;241m.\u001b[39mopen(filename, mode)\n\u001b[1;32m    495\u001b[0m \u001b[38;5;28;01melse\u001b[39;00m:\n\u001b[1;32m    496\u001b[0m     \u001b[38;5;66;03m# Either None or unknown string\u001b[39;00m\n\u001b[0;32m--> 497\u001b[0m     \u001b[38;5;28;01mreturn\u001b[39;00m \u001b[38;5;28;43mopen\u001b[39;49m\u001b[43m(\u001b[49m\u001b[43mfilename\u001b[49m\u001b[43m,\u001b[49m\u001b[43m \u001b[49m\u001b[43mmode\u001b[49m\u001b[43m)\u001b[49m\n",
      "\u001b[0;31mFileNotFoundError\u001b[0m: [Errno 2] No such file or directory: 'slab/Co0001-slab.traj'"
     ]
    }
   ],
   "source": [
    "from ase import Atoms, Atom\n",
    "from ase.io.trajectory import Trajectory\n",
    "import numpy as np\n",
    "from ase.constraints import FixAtoms, FixBondLength\n",
    "from ase.visualize import view\n",
    "from ase.build import add_adsorbate,molecule\n",
    "from ase.io import read,write\n",
    "\n",
    "adsorbate = molecule('O2')\n",
    "adsorbate.rotate('x',90)\n",
    "syst=read('slab/Co0001-slab.traj')\n",
    "add_adsorbate(syst, adsorbate, 2, 'ontop', offset=1)\n",
    "view(syst)\n",
    "#write('adsorbates/h2/initial.traj', syst)"
   ]
  },
  {
   "cell_type": "code",
   "execution_count": 23,
   "id": "81571fe1",
   "metadata": {},
   "outputs": [
    {
     "data": {
      "text/plain": [
       "<Popen: returncode: None args: ['/users/bkreitz1/anaconda/finetuna/bin/pytho...>"
      ]
     },
     "execution_count": 23,
     "metadata": {},
     "output_type": "execute_result"
    }
   ],
   "source": [
    "from ase import Atoms, Atom\n",
    "from ase.io.trajectory import Trajectory\n",
    "import numpy as np\n",
    "from ase.constraints import FixAtoms, FixBondLength\n",
    "from ase.visualize import view\n",
    "from ase.build import add_adsorbate,molecule\n",
    "from ase.io import read,write\n",
    "\n",
    "initial_syst=read('/users/bkreitz1/data/bkreitz1/VASP/fts/O1/OH+OH--H2O+O/low_OHh+OHh--H2Ot+Oh/08/CONTCAR.low2')\n",
    "del initial_syst.constraints\n",
    "write('test.traj',initial_syst)\n",
    "syst=read('test.traj')\n",
    "\n",
    "new_cell=syst.cell.standard_form()\n",
    "\n",
    "syst.set_cell(new_cell[0])\n",
    "\n",
    "initial_pos=syst.get_positions()\n",
    "new_positions=np.dot(initial_pos,new_cell[1].T)\n",
    "syst.set_positions(new_positions)\n",
    "origin=syst.get_positions()[20]\n",
    "\n",
    "slab=read('slab/Co0001-slab.traj')\n",
    "new_origin=slab.get_positions()[27]\n",
    "\n",
    "for i in syst:\n",
    "    if i.index > 44 and (i.index%2)!=0:\n",
    "        element=syst.get_chemical_symbols()[i.index]\n",
    "        pos=syst.get_positions()[i.index]\n",
    "        delta=pos-origin\n",
    "        slab.append(str(element))\n",
    "        slab.positions[-1]=new_origin+delta\n",
    "        \n",
    "        \n",
    "view(slab)"
   ]
  },
  {
   "cell_type": "code",
   "execution_count": 28,
   "id": "05568682",
   "metadata": {},
   "outputs": [
    {
     "data": {
      "text/plain": [
       "<Popen: returncode: None args: ['/users/bkreitz1/anaconda/finetuna/bin/pytho...>"
      ]
     },
     "execution_count": 28,
     "metadata": {},
     "output_type": "execute_result"
    }
   ],
   "source": [
    "initial_syst=read('/users/bkreitz1/data/bkreitz1/VASP/fts/adsorbates/finished/ch2co/atop/relax.traj')\n",
    "view(initial_syst)\n",
    "\n",
    "initial_syst.cell[2][2]=40\n",
    "view(initial_syst)"
   ]
  },
  {
   "cell_type": "code",
   "execution_count": null,
   "id": "3b38d97e",
   "metadata": {},
   "outputs": [],
   "source": [
    "#Adjust the vacuum to match the Pt slab\n",
    "rh_traj.center(vacuum=8.5, axis=2)   \n",
    "\n",
    "#Delete all Rh atoms from the slab\n",
    "b=np.arange(0,36)\n",
    "for i in sorted(b, reverse=True):\n",
    "    del rh_traj[i]\n",
    "    \n",
    "# Rh and Pt have a different size and lattice constant\n",
    "# A direct superposition of the adsorbate on Pt can be a little off\n",
    "# This shifts everything (if the atoms are within the first 2x2 cell)\n",
    "# Might need to be adjusted if the atoms are moved further away from the 0 point of the cartesian grid\n",
    "# Not the best method but it worksmyq\n",
    "\n",
    "dx=0.0 #angstrom\n",
    "dy=0.0 #angstrom\n",
    "dz=0.0 #angstrom \n",
    " \n",
    "dxdydz=np.array([dx,dy,dz])\n",
    "\n",
    "#Shift all atoms from the Rh trajectory by the created vector\n",
    "rh_traj.translate(dxdydz)\n",
    "\n",
    "#Read the Pt(111) slab\n",
    "pt_slab=read('pt_relax.traj@-1')\n",
    "\n",
    "#view(pt_slab)\n",
    "#Add the adsorbate on the Pt(111) surface and store this in a new array\n",
    "combined=pt_slab+rh_traj\n",
    "\n",
    "combined.center(vacuum=8.5, axis=2) \n",
    "\n",
    "view(combined)\n",
    "result=name + '-initial.traj'\n",
    "write(result, combined)"
   ]
  },
  {
   "cell_type": "code",
   "execution_count": null,
   "id": "23c7680d",
   "metadata": {},
   "outputs": [],
   "source": []
  },
  {
   "cell_type": "code",
   "execution_count": null,
   "id": "a8879ba2",
   "metadata": {},
   "outputs": [],
   "source": [
    "from ase import Atoms, Atom\n",
    "from ase.io.trajectory import Trajectory\n",
    "import numpy as np\n",
    "from ase.constraints import FixAtoms, FixBondLength\n",
    "from ase.visualize import view\n",
    "from ase.io import read,write\n",
    "\n",
    "name='../chcho/fcc/'\n",
    "syst=read(name+'relax.traj')\n",
    "\n",
    "b=np.arange(0,36)\n",
    "for i in sorted(b, reverse=True):\n",
    "    del syst[i]\n",
    "    \n",
    "syst.set_cell([[0, 0, 0], [0, 0, 0], [0, 0, 0]])\n",
    "\n",
    "syst.center(vacuum=10)\n",
    "view(syst)\n",
    "write(name +'chcho-gas.traj', syst)"
   ]
  },
  {
   "cell_type": "code",
   "execution_count": null,
   "id": "f04ba7b3",
   "metadata": {},
   "outputs": [],
   "source": [
    "from ase import Atoms, Atom\n",
    "from ase.io.trajectory import Trajectory\n",
    "import numpy as np\n",
    "from ase.constraints import FixAtoms, FixBondLength\n",
    "from ase.visualize import view\n",
    "from ase.build import add_adsorbate,molecule\n",
    "from ase.io import read,write\n",
    "\n",
    "syst=read('adsorbates/cooh/initial.traj')\n",
    "#view(slab)\n",
    "no_slab=36\n",
    "total=syst.get_global_number_of_atoms()\n",
    "\n",
    "adsorbate=list(np.arange(no_slab,total,1))\n",
    "\n",
    "print(adsorbate)"
   ]
  },
  {
   "cell_type": "code",
   "execution_count": null,
   "id": "d24547af",
   "metadata": {},
   "outputs": [],
   "source": [
    "from ase import Atoms, Atom\n",
    "from ase.io.trajectory import Trajectory\n",
    "import numpy as np\n",
    "from ase.constraints import FixAtoms, FixBondLength\n",
    "from ase.visualize import view\n",
    "from ase.build import add_adsorbate,molecule\n",
    "from ase.io import read,write\n",
    "\n",
    "initial_syst=read('/users/bkreitz1/data/bkreitz1/VASP/fts/C2/hydro_a/CCH2+H--CCH3/low_CCH2h+Hf--CCH3/NEB00-04/TS/CONTCAR.close')\n",
    "\n",
    "write('test.traj',initial_syst)\n",
    "syst=read('test.traj')\n",
    "new_cell=syst.cell.standard_form()\n",
    "print(new_cell[1])\n",
    "\n",
    "syst.set_cell(new_cell[0])\n",
    "#view(syst)\n",
    "initial_pos=syst.get_positions()\n",
    "new_positions=np.dot(initial_pos,new_cell[1].T)\n",
    "#print(new_positions)\n",
    "syst.set_positions(new_positions)\n",
    "origin=syst.get_positions()[20]\n",
    "#c=syst.get_positions()[45]\n",
    "\n",
    "\n",
    "slab=read('slab/Co0001-slab.traj')\n",
    "new_origin=slab.get_positions()[27]\n",
    "\n",
    "#cp_atoms=[]\n",
    "for i in syst:\n",
    "    if i.index > 44 and (i.index%2)!=0:\n",
    "        print(i.index)\n",
    "        element=syst.get_chemical_symbols()[i.index]\n",
    "        pos=syst.get_positions()[i.index]\n",
    "        delta=pos-origin\n",
    "        slab.append(str(element))\n",
    "        slab.positions[-1]=new_origin+delta\n",
    "        \n",
    "#print(syst.cell)\n",
    "view(syst)\n",
    "view(slab)\n",
    "#print(A)\n",
    "#new_cell=np.dot(A,syst.cell.T)\n",
    "#print(new_cell)\n",
    "\n",
    "#view(syst)\n",
    "\n",
    "#print(test.cell)\n",
    "\n",
    "#print(origin)\n",
    "\n",
    "\n",
    "\n",
    "\n",
    "\n",
    "\n",
    "view(slab)"
   ]
  },
  {
   "cell_type": "code",
   "execution_count": 4,
   "id": "57147b07",
   "metadata": {},
   "outputs": [
    {
     "data": {
      "text/plain": [
       "<Popen: returncode: None args: ['/users/bkreitz1/anaconda/finetuna/bin/pytho...>"
      ]
     },
     "execution_count": 4,
     "metadata": {},
     "output_type": "execute_result"
    }
   ],
   "source": [
    "from ase import Atoms, Atom\n",
    "from ase.io.trajectory import Trajectory\n",
    "import numpy as np\n",
    "from ase.constraints import FixAtoms, FixBondLength\n",
    "from ase.visualize import view\n",
    "from ase.build import add_adsorbate,molecule\n",
    "from ase.io import read,write\n",
    "\n",
    "syst=read('/users/bkreitz1/data/bkreitz1/QE/methane-oxidation/vasp-structures/CHCH-vdw/final.traj')\n",
    "view(syst)\n",
    "slab=read('slab/Co0001-slab.traj')\n",
    "view(slab)\n"
   ]
  },
  {
   "cell_type": "code",
   "execution_count": 61,
   "id": "c57f7a26",
   "metadata": {},
   "outputs": [
    {
     "data": {
      "text/plain": [
       "<Popen: returncode: None args: ['/users/bkreitz1/anaconda/finetuna/bin/pytho...>"
      ]
     },
     "execution_count": 61,
     "metadata": {},
     "output_type": "execute_result"
    }
   ],
   "source": [
    "syst=read('/users/bkreitz1/data/bkreitz1/VASP/fts/adsorbates/finished/ch2chch3/fcc/relax_initial.traj')\n",
    "view(syst)"
   ]
  },
  {
   "cell_type": "code",
   "execution_count": 1,
   "id": "086c4fe0",
   "metadata": {},
   "outputs": [
    {
     "ename": "ImportError",
     "evalue": "cannot import name 'hcp1121' from 'ase.build' (/users/bkreitz1/anaconda/finetuna/lib/python3.9/site-packages/ase/build/__init__.py)",
     "output_type": "error",
     "traceback": [
      "\u001b[0;31m---------------------------------------------------------------------------\u001b[0m",
      "\u001b[0;31mImportError\u001b[0m                               Traceback (most recent call last)",
      "Cell \u001b[0;32mIn[1], line 1\u001b[0m\n\u001b[0;32m----> 1\u001b[0m \u001b[38;5;28;01mfrom\u001b[39;00m \u001b[38;5;21;01mase\u001b[39;00m\u001b[38;5;21;01m.\u001b[39;00m\u001b[38;5;21;01mbuild\u001b[39;00m \u001b[38;5;28;01mimport\u001b[39;00m hcp1121\n",
      "\u001b[0;31mImportError\u001b[0m: cannot import name 'hcp1121' from 'ase.build' (/users/bkreitz1/anaconda/finetuna/lib/python3.9/site-packages/ase/build/__init__.py)"
     ]
    }
   ],
   "source": [
    "from ase.build import hcp1121"
   ]
  },
  {
   "cell_type": "code",
   "execution_count": 14,
   "id": "445f942a",
   "metadata": {},
   "outputs": [],
   "source": [
    "from ase import Atoms, Atom\n",
    "from ase.io.trajectory import Trajectory\n",
    "import numpy as np\n",
    "from ase.constraints import FixAtoms, FixBondLength\n",
    "from ase.visualize import view\n",
    "from ase.build import add_adsorbate,molecule\n",
    "from ase.io import read,write\n",
    "from ase.neb import NEB\n",
    "from ase.optimize import BFGS\n",
    "\n",
    "initial=read('/users/bkreitz1/data/bkreitz1/VASP/fts/nebs/h-co/initial.traj')\n",
    "final=read('/users/bkreitz1/data/bkreitz1/VASP/fts/nebs/h-co/final.traj')\n",
    "ts=read('/users/bkreitz1/data/bkreitz1/VASP/fts/nebs/h-co/TS.traj')\n",
    "\n",
    "#calc=()\n",
    "#constraint=\n",
    "interior_images=4\n",
    "\n",
    "#interpolate between initial and transition state\n",
    "images_is_ts=[initial]\n",
    "for i in range(interior_images):\n",
    "    image=initial.copy()\n",
    "    #image.set_calculator(calc)\n",
    "    #image.set_constraint(constraint)\n",
    "    images_is_ts.append(image)\n",
    "\n",
    "images_is_ts.append(ts)\n",
    "\n",
    "neb_is_ts=NEB(images_is_ts)\n",
    "neb_is_ts.interpolate()\n",
    "\n",
    "#view(images_is_ts)\n",
    "\n",
    "#interpolate between transition and final state\n",
    "images_ts_fs=[ts]\n",
    "for i in range(interior_images):\n",
    "    image=ts.copy()\n",
    "    #image.set_calculator(calc)\n",
    "    #image.set_constraint(constraint)\n",
    "    images_ts_fs.append(image)\n",
    "\n",
    "images_ts_fs.append(final)\n",
    "\n",
    "neb_ts_fs=NEB(images_ts_fs)\n",
    "neb_ts_fs.interpolate()\n",
    "\n",
    "#combine the two trajectories into one\n",
    "combined=images_is_ts[:-2]+images_ts_fs\n",
    "view(combined)\n",
    "\n",
    "#This is the actual NEB object\n",
    "neb=NEB(combined,climb=False,k=0.5)\n",
    "\n",
    "#qn = BFGS(neb, trajectory='neb.traj', logfile='neb.log')\n",
    "#qn.run(fmax=5e-2) #Relaxed until forces below 0.05 eV/A\n",
    "\n",
    "    \n"
   ]
  },
  {
   "cell_type": "code",
   "execution_count": null,
   "id": "6e1d4328",
   "metadata": {},
   "outputs": [],
   "source": []
  }
 ],
 "metadata": {
  "kernelspec": {
   "display_name": "Python 3 (ipykernel)",
   "language": "python",
   "name": "python3"
  },
  "language_info": {
   "codemirror_mode": {
    "name": "ipython",
    "version": 3
   },
   "file_extension": ".py",
   "mimetype": "text/x-python",
   "name": "python",
   "nbconvert_exporter": "python",
   "pygments_lexer": "ipython3",
   "version": "3.9.13"
  }
 },
 "nbformat": 4,
 "nbformat_minor": 5
}
