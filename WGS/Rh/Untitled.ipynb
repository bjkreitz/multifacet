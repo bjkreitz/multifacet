{
 "cells": [
  {
   "cell_type": "code",
   "execution_count": 11,
   "id": "d205cab8-79f2-4ddd-b54f-45efd406516f",
   "metadata": {},
   "outputs": [],
   "source": [
    "import numpy as np\n",
    "from ocpapi import find_adsorbate_binding_sites, keep_slabs_with_miller_indices\n",
    "import ase\n",
    "import asyncio\n",
    "from ase import Atoms, Atom\n",
    "from ase.io.trajectory import Trajectory\n",
    "import os\n",
    "import matplotlib.pyplot as plt\n",
    "from ase.io import read,write\n",
    "from ase.visualize import view"
   ]
  },
  {
   "cell_type": "code",
   "execution_count": 56,
   "id": "d464d2bb-b0d2-4ecb-8923-b949d1441e6a",
   "metadata": {},
   "outputs": [
    {
     "name": "stdout",
     "output_type": "stream",
     "text": [
      "111/OH/29.traj\n"
     ]
    }
   ],
   "source": [
    "import glob\n",
    "\n",
    "for filename in glob.iglob('111/OH/*.traj'):\n",
    "    print(filename)\n",
    "    initial=read(filename)\n",
    "    view(initial)"
   ]
  },
  {
   "cell_type": "code",
   "execution_count": 53,
   "id": "55cb28eb-1dda-4213-a970-f4da95ace56b",
   "metadata": {},
   "outputs": [
    {
     "data": {
      "text/plain": [
       "<Popen: returncode: None args: ['/Users/bjkreitz/miniconda3/envs/atomic/bin/...>"
      ]
     },
     "execution_count": 53,
     "metadata": {},
     "output_type": "execute_result"
    }
   ],
   "source": [
    "#for 111\n",
    "\n",
    "b=list([37,43,49,19,25,31,1,7,13,38,44,50,20,26,32,2,8,14])\n",
    "for i in sorted(b, reverse=True):\n",
    "    del initial[i]\n",
    "view(initial)"
   ]
  },
  {
   "cell_type": "code",
   "execution_count": 57,
   "id": "f5b7cb38-9f34-4709-8b03-f5bb4891cb5f",
   "metadata": {},
   "outputs": [
    {
     "name": "stdout",
     "output_type": "stream",
     "text": [
      "100/OH/8.traj\n"
     ]
    }
   ],
   "source": [
    "for filename in glob.iglob('100/OH/*.traj'):\n",
    "    print(filename)\n",
    "    initial=read(filename)\n",
    "    view(initial)"
   ]
  },
  {
   "cell_type": "code",
   "execution_count": 59,
   "id": "cb679af5-3b9b-42b6-94bb-d9d06466c393",
   "metadata": {},
   "outputs": [
    {
     "name": "stdout",
     "output_type": "stream",
     "text": [
      "110/OH/12.traj\n"
     ]
    }
   ],
   "source": [
    "for filename in glob.iglob('110/OH/*.traj'):\n",
    "    print(filename)\n",
    "    initial=read(filename)\n",
    "    view(initial)"
   ]
  },
  {
   "cell_type": "code",
   "execution_count": 60,
   "id": "77c48893-6e5f-460a-bc97-5f7d6fe3b2e4",
   "metadata": {},
   "outputs": [
    {
     "data": {
      "text/plain": [
       "<Popen: returncode: None args: ['/Users/bjkreitz/miniconda3/envs/atomic/bin/...>"
      ]
     },
     "execution_count": 60,
     "metadata": {},
     "output_type": "execute_result"
    }
   ],
   "source": [
    "b=list([2,10,18,26,34,42,50,58,66,0,8,16,24,32,40,48,56,64])\n",
    "for i in sorted(b, reverse=True):\n",
    "    del initial[i]\n",
    "view(initial)"
   ]
  },
  {
   "cell_type": "code",
   "execution_count": null,
   "id": "74dddb1b-5a1c-4323-937a-cba49982ede7",
   "metadata": {},
   "outputs": [],
   "source": []
  }
 ],
 "metadata": {
  "kernelspec": {
   "display_name": "Python 3 (ipykernel)",
   "language": "python",
   "name": "python3"
  },
  "language_info": {
   "codemirror_mode": {
    "name": "ipython",
    "version": 3
   },
   "file_extension": ".py",
   "mimetype": "text/x-python",
   "name": "python",
   "nbconvert_exporter": "python",
   "pygments_lexer": "ipython3",
   "version": "3.12.4"
  }
 },
 "nbformat": 4,
 "nbformat_minor": 5
}
