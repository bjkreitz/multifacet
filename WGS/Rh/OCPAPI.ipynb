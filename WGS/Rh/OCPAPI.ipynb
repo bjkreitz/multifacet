{
 "cells": [
  {
   "cell_type": "code",
   "execution_count": 1,
   "id": "218bce38-4d11-4d86-9e86-c69944372b08",
   "metadata": {},
   "outputs": [],
   "source": [
    "import numpy as np\n",
    "from ocpapi import find_adsorbate_binding_sites, keep_slabs_with_miller_indices\n",
    "import ase\n",
    "import asyncio\n",
    "from ase import Atoms, Atom\n",
    "from ase.io.trajectory import Trajectory\n",
    "import os"
   ]
  },
  {
   "cell_type": "code",
   "execution_count": null,
   "id": "5dcc7247-6980-4528-aa53-13fc4b50c3cb",
   "metadata": {},
   "outputs": [],
   "source": [
    "from ocpapi import find_adsorbate_binding_sites, keep_slabs_with_miller_indices\n",
    "\n",
    "results = await find_adsorbate_binding_sites(\n",
    "    adsorbate=\"*OH\",\n",
    "    bulk=\"mp-126\",\n",
    "    adslab_filter=keep_slabs_with_miller_indices([(1, 1, 1)]),\n",
    ")"
   ]
  },
  {
   "cell_type": "code",
   "execution_count": 4,
   "id": "215d9814-b244-4b62-ba76-54991866c3b4",
   "metadata": {},
   "outputs": [
    {
     "ename": "RuntimeError",
     "evalue": "asyncio.run() cannot be called from a running event loop",
     "output_type": "error",
     "traceback": [
      "\u001b[0;31m---------------------------------------------------------------------------\u001b[0m",
      "\u001b[0;31mRuntimeError\u001b[0m                              Traceback (most recent call last)",
      "Cell \u001b[0;32mIn[4], line 6\u001b[0m\n\u001b[1;32m      1\u001b[0m species_list \u001b[38;5;241m=\u001b[39m [\u001b[38;5;124m'\u001b[39m\u001b[38;5;124m*OH\u001b[39m\u001b[38;5;124m'\u001b[39m]\n\u001b[1;32m      2\u001b[0m \u001b[38;5;66;03m#name_list = ['NO3', 'ONOH']\u001b[39;00m\n\u001b[1;32m      3\u001b[0m \u001b[38;5;66;03m#keep_n = 4\u001b[39;00m\n\u001b[1;32m      4\u001b[0m \n\u001b[1;32m      5\u001b[0m \u001b[38;5;66;03m#for name, species in enumerate(species_list):\u001b[39;00m\n\u001b[0;32m----> 6\u001b[0m asyncio\u001b[38;5;241m.\u001b[39mrun(find_adsorbate_binding_sites(\n\u001b[1;32m      7\u001b[0m         adsorbate\u001b[38;5;241m=\u001b[39m\u001b[38;5;124m\"\u001b[39m\u001b[38;5;124m*OH\u001b[39m\u001b[38;5;124m\"\u001b[39m,\n\u001b[1;32m      8\u001b[0m         bulk\u001b[38;5;241m=\u001b[39m\u001b[38;5;124m\"\u001b[39m\u001b[38;5;124mmp-126\u001b[39m\u001b[38;5;124m\"\u001b[39m,\n\u001b[1;32m      9\u001b[0m         adslab_filter\u001b[38;5;241m=\u001b[39mkeep_slabs_with_miller_indices([(\u001b[38;5;241m1\u001b[39m, \u001b[38;5;241m1\u001b[39m, \u001b[38;5;241m1\u001b[39m)]),\n\u001b[1;32m     10\u001b[0m     ))\n",
      "File \u001b[0;32m~/miniconda3/envs/atomic/lib/python3.12/asyncio/runners.py:190\u001b[0m, in \u001b[0;36mrun\u001b[0;34m(main, debug, loop_factory)\u001b[0m\n\u001b[1;32m    161\u001b[0m \u001b[38;5;250m\u001b[39m\u001b[38;5;124;03m\"\"\"Execute the coroutine and return the result.\u001b[39;00m\n\u001b[1;32m    162\u001b[0m \n\u001b[1;32m    163\u001b[0m \u001b[38;5;124;03mThis function runs the passed coroutine, taking care of\u001b[39;00m\n\u001b[0;32m   (...)\u001b[0m\n\u001b[1;32m    186\u001b[0m \u001b[38;5;124;03m    asyncio.run(main())\u001b[39;00m\n\u001b[1;32m    187\u001b[0m \u001b[38;5;124;03m\"\"\"\u001b[39;00m\n\u001b[1;32m    188\u001b[0m \u001b[38;5;28;01mif\u001b[39;00m events\u001b[38;5;241m.\u001b[39m_get_running_loop() \u001b[38;5;129;01mis\u001b[39;00m \u001b[38;5;129;01mnot\u001b[39;00m \u001b[38;5;28;01mNone\u001b[39;00m:\n\u001b[1;32m    189\u001b[0m     \u001b[38;5;66;03m# fail fast with short traceback\u001b[39;00m\n\u001b[0;32m--> 190\u001b[0m     \u001b[38;5;28;01mraise\u001b[39;00m \u001b[38;5;167;01mRuntimeError\u001b[39;00m(\n\u001b[1;32m    191\u001b[0m         \u001b[38;5;124m\"\u001b[39m\u001b[38;5;124masyncio.run() cannot be called from a running event loop\u001b[39m\u001b[38;5;124m\"\u001b[39m)\n\u001b[1;32m    193\u001b[0m \u001b[38;5;28;01mwith\u001b[39;00m Runner(debug\u001b[38;5;241m=\u001b[39mdebug, loop_factory\u001b[38;5;241m=\u001b[39mloop_factory) \u001b[38;5;28;01mas\u001b[39;00m runner:\n\u001b[1;32m    194\u001b[0m     \u001b[38;5;28;01mreturn\u001b[39;00m runner\u001b[38;5;241m.\u001b[39mrun(main)\n",
      "\u001b[0;31mRuntimeError\u001b[0m: asyncio.run() cannot be called from a running event loop"
     ]
    }
   ],
   "source": [
    "species_list = ['*OH']\n",
    "#name_list = ['NO3', 'ONOH']\n",
    "#keep_n = 4\n",
    "\n",
    "#for name, species in enumerate(species_list):\n",
    "asyncio.run(find_adsorbate_binding_sites(\n",
    "        adsorbate=\"*OH\",\n",
    "        bulk=\"mp-126\",\n",
    "        adslab_filter=keep_slabs_with_miller_indices([(1, 1, 1)]),\n",
    "    ))"
   ]
  },
  {
   "cell_type": "code",
   "execution_count": 5,
   "id": "196e1067-944a-4a41-bce7-239c5a2ef93f",
   "metadata": {},
   "outputs": [
    {
     "data": {
      "text/plain": [
       "<_UnixSelectorEventLoop running=True closed=False debug=False>"
      ]
     },
     "execution_count": 5,
     "metadata": {},
     "output_type": "execute_result"
    }
   ],
   "source": [
    "asyncio.get_event_loop()"
   ]
  },
  {
   "cell_type": "code",
   "execution_count": null,
   "id": "9f4effc9-ebcd-49aa-88a5-e3986a94b262",
   "metadata": {},
   "outputs": [],
   "source": [
    "species_list = ['*NO3', '*ONOH']\n",
    "name_list = ['NO3', 'ONOH']\n",
    "keep_n = 1\n",
    "\n",
    "for name, species in enumerate(species_list):\n",
    "    results = asyncio.run(find_adsorbate_binding_sites(\n",
    "        adsorbate=species,\n",
    "        bulk=\"mp-126\",\n",
    "        adslab_filter=keep_slabs_with_miller_indices([(1, 1, 1)]),\n",
    "    ))\n",
    "    E_list = []\n",
    "    atoms_list = []\n",
    "    for i in range(len(results.slabs[0].configs)):\n",
    "        ase_atoms = results.slabs[0].configs[i].to_ase_atoms()\n",
    "        E_list.append(ase_atoms.get_potential_energy())\n",
    "        atoms_list.append(ase_atoms)\n",
    "    indx = sorted(range(len(E_list)), key=lambda sub: E_list[sub])[:keep_n]\n",
    "    os.mkdir(name_list[name])\n",
    "    for i in indx:\n",
    "            traj = Trajectory(name_list[name] + '/' + str(i) + '.traj','w')\n",
    "            traj.write(atoms_list[i])"
   ]
  },
  {
   "cell_type": "code",
   "execution_count": null,
   "id": "976429f1-31a5-4b41-83b1-7f4dc715a365",
   "metadata": {},
   "outputs": [],
   "source": [
    "#Rh mp-74\n",
    "#Facets 100, 110, 111, 311 (use 211), 331 (use 221) (Diffusion relevant only on the three facets)\n",
    "#Species CO2, H, CO, H2O, OH, O, COOH, HCOO, C, CH, CH2, CH3, OCH\n",
    "#Demo CO2 (not available), *H, *CO, *OH2 ,*OH, *O, *COOH, *OCHO, *C, *CH, *CH2, *CH3, *CHO\n"
   ]
  }
 ],
 "metadata": {
  "kernelspec": {
   "display_name": "Python 3 (ipykernel)",
   "language": "python",
   "name": "python3"
  },
  "language_info": {
   "codemirror_mode": {
    "name": "ipython",
    "version": 3
   },
   "file_extension": ".py",
   "mimetype": "text/x-python",
   "name": "python",
   "nbconvert_exporter": "python",
   "pygments_lexer": "ipython3",
   "version": "3.12.4"
  }
 },
 "nbformat": 4,
 "nbformat_minor": 5
}
