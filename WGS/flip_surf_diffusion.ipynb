{
 "cells": [
  {
   "cell_type": "code",
   "execution_count": 24,
   "id": "2f014446",
   "metadata": {},
   "outputs": [
    {
     "name": "stdout",
     "output_type": "stream",
     "text": [
      "1.337e+22\n",
      "149.162252349\n",
      "CO2(331) <=> CO(331) + O(331)\n",
      "1.44e+24\n",
      "112.60096576000001\n",
      "OH(331) + Rh(331) <=> H(331) + O(331)\n",
      "1.45e+22\n",
      "56.832994938\n",
      "2 OH(331) <=> H2O(331) + O(331)\n",
      "2.322e+29\n",
      "199.82164048500002\n",
      "CO(331) + Rh(331) <=> C(331) + O(331)\n"
     ]
    },
    {
     "name": "stderr",
     "output_type": "stream",
     "text": [
      "/var/folders/ct/t72gd9jn14l9bbfml_gschyh0000gn/T/ipykernel_47005/3924008731.py:35: DeprecationWarning: Conversion of an array with ndim > 0 to a scalar is deprecated, and will error in future. Ensure you extract a single element from your array before performing this operation. (Deprecated NumPy 1.25.)\n",
      "  Ea_R=-float(model.coef_[0])\n",
      "/var/folders/ct/t72gd9jn14l9bbfml_gschyh0000gn/T/ipykernel_47005/3924008731.py:35: DeprecationWarning: Conversion of an array with ndim > 0 to a scalar is deprecated, and will error in future. Ensure you extract a single element from your array before performing this operation. (Deprecated NumPy 1.25.)\n",
      "  Ea_R=-float(model.coef_[0])\n",
      "/var/folders/ct/t72gd9jn14l9bbfml_gschyh0000gn/T/ipykernel_47005/3924008731.py:35: DeprecationWarning: Conversion of an array with ndim > 0 to a scalar is deprecated, and will error in future. Ensure you extract a single element from your array before performing this operation. (Deprecated NumPy 1.25.)\n",
      "  Ea_R=-float(model.coef_[0])\n",
      "/var/folders/ct/t72gd9jn14l9bbfml_gschyh0000gn/T/ipykernel_47005/3924008731.py:35: DeprecationWarning: Conversion of an array with ndim > 0 to a scalar is deprecated, and will error in future. Ensure you extract a single element from your array before performing this operation. (Deprecated NumPy 1.25.)\n",
      "  Ea_R=-float(model.coef_[0])\n"
     ]
    }
   ],
   "source": [
    "import numpy as np\n",
    "import matplotlib.pyplot as plt\n",
    "import pandas as pd\n",
    "import matplotlib.gridspec as gridspec\n",
    "import cantera as ct\n",
    "from sklearn.linear_model import LinearRegression\n",
    "import os\n",
    "import concurrent.futures\n",
    "\n",
    "def reverse_Arrhenius(a):   \n",
    "    reaction_idx=a\n",
    "    gas = ct.Solution(cti_file, 'gas')\n",
    "    surf = ct.Interface(cti_file,'Rh331', [gas])\n",
    "\n",
    "    t=np.linspace(100,1000, 50)\n",
    "    k_forward=np.zeros(len(t))\n",
    "    k_reverse=np.zeros(len(t))\n",
    "    for i in range(len(t)):\n",
    "      gas.TPX =t[i]+273, ct.one_atm, 'N2:1'\n",
    "      surf.TP = t[i]+273, ct.one_atm\n",
    "      surf.coverages = {'Rh(331)':1}\n",
    "      k_reverse[i]=surf.reverse_rate_constants[reaction_idx]\n",
    "      k_forward[i]=surf.forward_rate_constants[reaction_idx]\n",
    "   \n",
    "    T_reciprok=1/(t+273)    \n",
    "    log_k_forward=np.log(k_forward)\n",
    "    log_k_reverse=np.log(k_reverse)\n",
    "    log_k_reverse=log_k_reverse.reshape(len(k_reverse),1)\n",
    "    T_reciprok=T_reciprok.reshape(len(T_reciprok),1)\n",
    "\n",
    "    #Linear regression of an Arrhenius expression to the calculated rate constant\n",
    "    model =LinearRegression(fit_intercept=True)\n",
    "    model.fit(T_reciprok,log_k_reverse)\n",
    "    yfit=model.predict(log_k_reverse)\n",
    "    Ea_R=-float(model.coef_[0])\n",
    "    ln_k0=float(model.intercept_[0])\n",
    "    activation_barrier=np.round(Ea_R*ct.gas_constant,3)\n",
    "    pre_exponential=float(np.format_float_scientific(np.exp(ln_k0)*10,precision=3))\n",
    "    #print(surf.reaction_equations()[a])\n",
    "    #print(pre_exponential,activation_barrier)\n",
    "    return pre_exponential, activation_barrier\n",
    "\n",
    "cti_file='WGS_on_Rh_HRHT.yaml'\n",
    "gas = ct.Solution(cti_file, 'gas')\n",
    "gas.TPX = 373, ct.one_atm, 'N2:1'\n",
    "\n",
    "# import the surface model\n",
    "surf = ct.Interface(cti_file,'Rh331', [gas])\n",
    "surf.TP = 273, ct.one_atm\n",
    "surf.coverages = {'Rh(331)':1}\n",
    "\n",
    "index=[5,7,13,15]\n",
    "for i in index:\n",
    "    rev_params=reverse_Arrhenius(i)\n",
    "    print(rev_params[0])\n",
    "    print(rev_params[1]/1e6)\n",
    "    print(surf.reaction_equations()[i])\n",
    "\n",
    "# idx=[]\n",
    "# for i in range(surf.n_reactions):\n",
    "#     print(i)\n",
    "#     print(surf.reaction_equations()[i])\n"
   ]
  },
  {
   "cell_type": "code",
   "execution_count": 19,
   "id": "b9b95cb6",
   "metadata": {},
   "outputs": [
    {
     "name": "stdout",
     "output_type": "stream",
     "text": [
      "-477.54053895945714\n",
      "-144.37562267087173\n",
      "-164.15446041469198\n",
      "51.16779084690005\n",
      "88.1142076859575\n"
     ]
    }
   ],
   "source": [
    "cti_file='Multifacet_mechanism_flipped_reactions_covdep.yaml'\n",
    "gas = ct.Solution(cti_file, 'gas')\n",
    "gas.TPX = 373, ct.one_atm, 'Ar:73.9695'\n",
    "\n",
    "# import the surface model\n",
    "surf = ct.Interface(cti_file,'surface4', [gas])\n",
    "surf.TP = 273, ct.one_atm\n",
    "surf.coverages = {'site(110)':1}\n",
    "\n",
    "for i in range(surf.n_reactions):\n",
    "    print(surf.delta_standard_enthalpy[i]/1e6)"
   ]
  },
  {
   "cell_type": "code",
   "execution_count": null,
   "id": "086744a5",
   "metadata": {},
   "outputs": [],
   "source": []
  }
 ],
 "metadata": {
  "kernelspec": {
   "display_name": "Python 3 (ipykernel)",
   "language": "python",
   "name": "python3"
  },
  "language_info": {
   "codemirror_mode": {
    "name": "ipython",
    "version": 3
   },
   "file_extension": ".py",
   "mimetype": "text/x-python",
   "name": "python",
   "nbconvert_exporter": "python",
   "pygments_lexer": "ipython3",
   "version": "3.11.5"
  }
 },
 "nbformat": 4,
 "nbformat_minor": 5
}
